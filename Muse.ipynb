{
  "nbformat": 4,
  "nbformat_minor": 0,
  "metadata": {
    "colab": {
      "provenance": [],
      "toc_visible": true,
      "mount_file_id": "18YYJdwN2aIwl_gJ2a54qKE_CkfzbvWmb",
      "authorship_tag": "ABX9TyMxwtT2EOCNoU6xAIH4m8TI"
    },
    "kernelspec": {
      "name": "python3",
      "display_name": "Python 3"
    },
    "language_info": {
      "name": "python"
    }
  },
  "cells": [
    {
      "cell_type": "markdown",
      "source": [
        "# _Muse_: A Music Genre Classifier"
      ],
      "metadata": {
        "id": "pV1QtF9aJqFr"
      }
    },
    {
      "cell_type": "markdown",
      "source": [
        "## Installing required libraries\n",
        "\n"
      ],
      "metadata": {
        "id": "6HBPFE0-rrrH"
      }
    },
    {
      "cell_type": "code",
      "execution_count": 1,
      "metadata": {
        "colab": {
          "base_uri": "https://localhost:8080/"
        },
        "id": "DIbxQEcai2F9",
        "outputId": "feebe274-8643-4ffe-8723-b512076451d6"
      },
      "outputs": [
        {
          "output_type": "stream",
          "name": "stdout",
          "text": [
            "Looking in indexes: https://pypi.org/simple, https://us-python.pkg.dev/colab-wheels/public/simple/\n",
            "Requirement already satisfied: kaggle in /usr/local/lib/python3.9/dist-packages (1.5.13)\n",
            "Requirement already satisfied: certifi in /usr/local/lib/python3.9/dist-packages (from kaggle) (2022.12.7)\n",
            "Requirement already satisfied: requests in /usr/local/lib/python3.9/dist-packages (from kaggle) (2.27.1)\n",
            "Requirement already satisfied: urllib3 in /usr/local/lib/python3.9/dist-packages (from kaggle) (1.26.15)\n",
            "Requirement already satisfied: python-dateutil in /usr/local/lib/python3.9/dist-packages (from kaggle) (2.8.2)\n",
            "Requirement already satisfied: python-slugify in /usr/local/lib/python3.9/dist-packages (from kaggle) (8.0.1)\n",
            "Requirement already satisfied: six>=1.10 in /usr/local/lib/python3.9/dist-packages (from kaggle) (1.16.0)\n",
            "Requirement already satisfied: tqdm in /usr/local/lib/python3.9/dist-packages (from kaggle) (4.65.0)\n",
            "Requirement already satisfied: text-unidecode>=1.3 in /usr/local/lib/python3.9/dist-packages (from python-slugify->kaggle) (1.3)\n",
            "Requirement already satisfied: idna<4,>=2.5 in /usr/local/lib/python3.9/dist-packages (from requests->kaggle) (3.4)\n",
            "Requirement already satisfied: charset-normalizer~=2.0.0 in /usr/local/lib/python3.9/dist-packages (from requests->kaggle) (2.0.12)\n",
            "Looking in indexes: https://pypi.org/simple, https://us-python.pkg.dev/colab-wheels/public/simple/\n",
            "Collecting imblearn\n",
            "  Downloading imblearn-0.0-py2.py3-none-any.whl (1.9 kB)\n",
            "Requirement already satisfied: imbalanced-learn in /usr/local/lib/python3.9/dist-packages (from imblearn) (0.10.1)\n",
            "Requirement already satisfied: scikit-learn>=1.0.2 in /usr/local/lib/python3.9/dist-packages (from imbalanced-learn->imblearn) (1.2.2)\n",
            "Requirement already satisfied: scipy>=1.3.2 in /usr/local/lib/python3.9/dist-packages (from imbalanced-learn->imblearn) (1.10.1)\n",
            "Requirement already satisfied: numpy>=1.17.3 in /usr/local/lib/python3.9/dist-packages (from imbalanced-learn->imblearn) (1.22.4)\n",
            "Requirement already satisfied: joblib>=1.1.1 in /usr/local/lib/python3.9/dist-packages (from imbalanced-learn->imblearn) (1.2.0)\n",
            "Requirement already satisfied: threadpoolctl>=2.0.0 in /usr/local/lib/python3.9/dist-packages (from imbalanced-learn->imblearn) (3.1.0)\n",
            "Installing collected packages: imblearn\n",
            "Successfully installed imblearn-0.0\n",
            "Looking in indexes: https://pypi.org/simple, https://us-python.pkg.dev/colab-wheels/public/simple/\n",
            "Requirement already satisfied: scikit-learn in /usr/local/lib/python3.9/dist-packages (1.2.2)\n",
            "Requirement already satisfied: numpy>=1.17.3 in /usr/local/lib/python3.9/dist-packages (from scikit-learn) (1.22.4)\n",
            "Requirement already satisfied: threadpoolctl>=2.0.0 in /usr/local/lib/python3.9/dist-packages (from scikit-learn) (3.1.0)\n",
            "Requirement already satisfied: joblib>=1.1.1 in /usr/local/lib/python3.9/dist-packages (from scikit-learn) (1.2.0)\n",
            "Requirement already satisfied: scipy>=1.3.2 in /usr/local/lib/python3.9/dist-packages (from scikit-learn) (1.10.1)\n",
            "Looking in indexes: https://pypi.org/simple, https://us-python.pkg.dev/colab-wheels/public/simple/\n",
            "Requirement already satisfied: seaborn in /usr/local/lib/python3.9/dist-packages (0.12.2)\n",
            "Requirement already satisfied: matplotlib!=3.6.1,>=3.1 in /usr/local/lib/python3.9/dist-packages (from seaborn) (3.7.1)\n",
            "Requirement already satisfied: numpy!=1.24.0,>=1.17 in /usr/local/lib/python3.9/dist-packages (from seaborn) (1.22.4)\n",
            "Requirement already satisfied: pandas>=0.25 in /usr/local/lib/python3.9/dist-packages (from seaborn) (1.5.3)\n",
            "Requirement already satisfied: python-dateutil>=2.7 in /usr/local/lib/python3.9/dist-packages (from matplotlib!=3.6.1,>=3.1->seaborn) (2.8.2)\n",
            "Requirement already satisfied: fonttools>=4.22.0 in /usr/local/lib/python3.9/dist-packages (from matplotlib!=3.6.1,>=3.1->seaborn) (4.39.3)\n",
            "Requirement already satisfied: packaging>=20.0 in /usr/local/lib/python3.9/dist-packages (from matplotlib!=3.6.1,>=3.1->seaborn) (23.1)\n",
            "Requirement already satisfied: pyparsing>=2.3.1 in /usr/local/lib/python3.9/dist-packages (from matplotlib!=3.6.1,>=3.1->seaborn) (3.0.9)\n",
            "Requirement already satisfied: cycler>=0.10 in /usr/local/lib/python3.9/dist-packages (from matplotlib!=3.6.1,>=3.1->seaborn) (0.11.0)\n",
            "Requirement already satisfied: kiwisolver>=1.0.1 in /usr/local/lib/python3.9/dist-packages (from matplotlib!=3.6.1,>=3.1->seaborn) (1.4.4)\n",
            "Requirement already satisfied: importlib-resources>=3.2.0 in /usr/local/lib/python3.9/dist-packages (from matplotlib!=3.6.1,>=3.1->seaborn) (5.12.0)\n",
            "Requirement already satisfied: contourpy>=1.0.1 in /usr/local/lib/python3.9/dist-packages (from matplotlib!=3.6.1,>=3.1->seaborn) (1.0.7)\n",
            "Requirement already satisfied: pillow>=6.2.0 in /usr/local/lib/python3.9/dist-packages (from matplotlib!=3.6.1,>=3.1->seaborn) (8.4.0)\n",
            "Requirement already satisfied: pytz>=2020.1 in /usr/local/lib/python3.9/dist-packages (from pandas>=0.25->seaborn) (2022.7.1)\n",
            "Requirement already satisfied: zipp>=3.1.0 in /usr/local/lib/python3.9/dist-packages (from importlib-resources>=3.2.0->matplotlib!=3.6.1,>=3.1->seaborn) (3.15.0)\n",
            "Requirement already satisfied: six>=1.5 in /usr/local/lib/python3.9/dist-packages (from python-dateutil>=2.7->matplotlib!=3.6.1,>=3.1->seaborn) (1.16.0)\n",
            "Looking in indexes: https://pypi.org/simple, https://us-python.pkg.dev/colab-wheels/public/simple/\n",
            "Requirement already satisfied: gensim in /usr/local/lib/python3.9/dist-packages (4.3.1)\n",
            "Requirement already satisfied: smart-open>=1.8.1 in /usr/local/lib/python3.9/dist-packages (from gensim) (6.3.0)\n",
            "Requirement already satisfied: numpy>=1.18.5 in /usr/local/lib/python3.9/dist-packages (from gensim) (1.22.4)\n",
            "Requirement already satisfied: scipy>=1.7.0 in /usr/local/lib/python3.9/dist-packages (from gensim) (1.10.1)\n"
          ]
        }
      ],
      "source": [
        "!pip install kaggle\n",
        "!pip install imblearn\n",
        "!pip install scikit-learn\n",
        "!pip install seaborn\n",
        "!pip install gensim"
      ]
    },
    {
      "cell_type": "markdown",
      "source": [
        "## Imports"
      ],
      "metadata": {
        "id": "GFUS6pimrv83"
      }
    },
    {
      "cell_type": "code",
      "source": [
        "import pandas as pd\n",
        "import numpy as np\n",
        "import matplotlib.pyplot as plt\n",
        "import seaborn as sns\n",
        "from imblearn.under_sampling import RandomUnderSampler\n",
        "from imblearn.over_sampling import RandomOverSampler\n",
        "from sklearn.model_selection import train_test_split\n",
        "from nltk.tokenize import word_tokenize\n",
        "import nltk\n",
        "from gensim.models.doc2vec import Doc2Vec, TaggedDocument\n",
        "from sklearn.svm import SVC\n",
        "from sklearn.ensemble import ExtraTreesClassifier, RandomForestClassifier, HistGradientBoostingClassifier\n",
        "from sklearn.multiclass import OneVsRestClassifier\n",
        "from sklearn.preprocessing import LabelBinarizer\n",
        "from sklearn.metrics import classification_report, accuracy_score, confusion_matrix, RocCurveDisplay"
      ],
      "metadata": {
        "id": "gJR71fkIrxXO"
      },
      "execution_count": 2,
      "outputs": []
    },
    {
      "cell_type": "markdown",
      "source": [
        "## Fetching data from Kaggle\n",
        "\n",
        "The dataset is a Kaggle dataset called [_Audio features and lyrics of Spotify songs_](https://www.kaggle.com/datasets/imuhammad/audio-features-and-lyrics-of-spotify-songs).\n",
        "\n",
        "This dataset contains various types of information of over more that 18000 Spotify songs including, artist, album, audio features (e.g. loudness), lyrics, the language of lyrics, genres and sub-genres.\n",
        "\n",
        "The original dataset was used in the [third week of the TidyTeusday project](https://github.com/rfordatascience/tidytuesday/tree/master/data/2020/2020-01-21) and only contained audio features and genres. The lyrics were added to the dataset using the [`genius`](https://cran.r-project.org/web/packages/genius/index.html) library in R, and the language of the lyrics were included using the [`langdetect`](https://pypi.org/project/langdetect/) library in python. However, only around half of the original songs are available in this dataset as lyrics could not be retreived for many songs."
      ],
      "metadata": {
        "id": "5xzb6GjyqbHa"
      }
    },
    {
      "cell_type": "code",
      "source": [
        "from google.colab import files \n",
        "files.upload()"
      ],
      "metadata": {
        "colab": {
          "base_uri": "https://localhost:8080/",
          "height": 91
        },
        "id": "tyaL-IHaorOZ",
        "outputId": "c41f258b-a540-4af6-fdcb-4c7576d793c2"
      },
      "execution_count": 3,
      "outputs": [
        {
          "output_type": "display_data",
          "data": {
            "text/plain": [
              "<IPython.core.display.HTML object>"
            ],
            "text/html": [
              "\n",
              "     <input type=\"file\" id=\"files-f25e2a1e-ad25-4f35-bf98-d31ef4dda385\" name=\"files[]\" multiple disabled\n",
              "        style=\"border:none\" />\n",
              "     <output id=\"result-f25e2a1e-ad25-4f35-bf98-d31ef4dda385\">\n",
              "      Upload widget is only available when the cell has been executed in the\n",
              "      current browser session. Please rerun this cell to enable.\n",
              "      </output>\n",
              "      <script>// Copyright 2017 Google LLC\n",
              "//\n",
              "// Licensed under the Apache License, Version 2.0 (the \"License\");\n",
              "// you may not use this file except in compliance with the License.\n",
              "// You may obtain a copy of the License at\n",
              "//\n",
              "//      http://www.apache.org/licenses/LICENSE-2.0\n",
              "//\n",
              "// Unless required by applicable law or agreed to in writing, software\n",
              "// distributed under the License is distributed on an \"AS IS\" BASIS,\n",
              "// WITHOUT WARRANTIES OR CONDITIONS OF ANY KIND, either express or implied.\n",
              "// See the License for the specific language governing permissions and\n",
              "// limitations under the License.\n",
              "\n",
              "/**\n",
              " * @fileoverview Helpers for google.colab Python module.\n",
              " */\n",
              "(function(scope) {\n",
              "function span(text, styleAttributes = {}) {\n",
              "  const element = document.createElement('span');\n",
              "  element.textContent = text;\n",
              "  for (const key of Object.keys(styleAttributes)) {\n",
              "    element.style[key] = styleAttributes[key];\n",
              "  }\n",
              "  return element;\n",
              "}\n",
              "\n",
              "// Max number of bytes which will be uploaded at a time.\n",
              "const MAX_PAYLOAD_SIZE = 100 * 1024;\n",
              "\n",
              "function _uploadFiles(inputId, outputId) {\n",
              "  const steps = uploadFilesStep(inputId, outputId);\n",
              "  const outputElement = document.getElementById(outputId);\n",
              "  // Cache steps on the outputElement to make it available for the next call\n",
              "  // to uploadFilesContinue from Python.\n",
              "  outputElement.steps = steps;\n",
              "\n",
              "  return _uploadFilesContinue(outputId);\n",
              "}\n",
              "\n",
              "// This is roughly an async generator (not supported in the browser yet),\n",
              "// where there are multiple asynchronous steps and the Python side is going\n",
              "// to poll for completion of each step.\n",
              "// This uses a Promise to block the python side on completion of each step,\n",
              "// then passes the result of the previous step as the input to the next step.\n",
              "function _uploadFilesContinue(outputId) {\n",
              "  const outputElement = document.getElementById(outputId);\n",
              "  const steps = outputElement.steps;\n",
              "\n",
              "  const next = steps.next(outputElement.lastPromiseValue);\n",
              "  return Promise.resolve(next.value.promise).then((value) => {\n",
              "    // Cache the last promise value to make it available to the next\n",
              "    // step of the generator.\n",
              "    outputElement.lastPromiseValue = value;\n",
              "    return next.value.response;\n",
              "  });\n",
              "}\n",
              "\n",
              "/**\n",
              " * Generator function which is called between each async step of the upload\n",
              " * process.\n",
              " * @param {string} inputId Element ID of the input file picker element.\n",
              " * @param {string} outputId Element ID of the output display.\n",
              " * @return {!Iterable<!Object>} Iterable of next steps.\n",
              " */\n",
              "function* uploadFilesStep(inputId, outputId) {\n",
              "  const inputElement = document.getElementById(inputId);\n",
              "  inputElement.disabled = false;\n",
              "\n",
              "  const outputElement = document.getElementById(outputId);\n",
              "  outputElement.innerHTML = '';\n",
              "\n",
              "  const pickedPromise = new Promise((resolve) => {\n",
              "    inputElement.addEventListener('change', (e) => {\n",
              "      resolve(e.target.files);\n",
              "    });\n",
              "  });\n",
              "\n",
              "  const cancel = document.createElement('button');\n",
              "  inputElement.parentElement.appendChild(cancel);\n",
              "  cancel.textContent = 'Cancel upload';\n",
              "  const cancelPromise = new Promise((resolve) => {\n",
              "    cancel.onclick = () => {\n",
              "      resolve(null);\n",
              "    };\n",
              "  });\n",
              "\n",
              "  // Wait for the user to pick the files.\n",
              "  const files = yield {\n",
              "    promise: Promise.race([pickedPromise, cancelPromise]),\n",
              "    response: {\n",
              "      action: 'starting',\n",
              "    }\n",
              "  };\n",
              "\n",
              "  cancel.remove();\n",
              "\n",
              "  // Disable the input element since further picks are not allowed.\n",
              "  inputElement.disabled = true;\n",
              "\n",
              "  if (!files) {\n",
              "    return {\n",
              "      response: {\n",
              "        action: 'complete',\n",
              "      }\n",
              "    };\n",
              "  }\n",
              "\n",
              "  for (const file of files) {\n",
              "    const li = document.createElement('li');\n",
              "    li.append(span(file.name, {fontWeight: 'bold'}));\n",
              "    li.append(span(\n",
              "        `(${file.type || 'n/a'}) - ${file.size} bytes, ` +\n",
              "        `last modified: ${\n",
              "            file.lastModifiedDate ? file.lastModifiedDate.toLocaleDateString() :\n",
              "                                    'n/a'} - `));\n",
              "    const percent = span('0% done');\n",
              "    li.appendChild(percent);\n",
              "\n",
              "    outputElement.appendChild(li);\n",
              "\n",
              "    const fileDataPromise = new Promise((resolve) => {\n",
              "      const reader = new FileReader();\n",
              "      reader.onload = (e) => {\n",
              "        resolve(e.target.result);\n",
              "      };\n",
              "      reader.readAsArrayBuffer(file);\n",
              "    });\n",
              "    // Wait for the data to be ready.\n",
              "    let fileData = yield {\n",
              "      promise: fileDataPromise,\n",
              "      response: {\n",
              "        action: 'continue',\n",
              "      }\n",
              "    };\n",
              "\n",
              "    // Use a chunked sending to avoid message size limits. See b/62115660.\n",
              "    let position = 0;\n",
              "    do {\n",
              "      const length = Math.min(fileData.byteLength - position, MAX_PAYLOAD_SIZE);\n",
              "      const chunk = new Uint8Array(fileData, position, length);\n",
              "      position += length;\n",
              "\n",
              "      const base64 = btoa(String.fromCharCode.apply(null, chunk));\n",
              "      yield {\n",
              "        response: {\n",
              "          action: 'append',\n",
              "          file: file.name,\n",
              "          data: base64,\n",
              "        },\n",
              "      };\n",
              "\n",
              "      let percentDone = fileData.byteLength === 0 ?\n",
              "          100 :\n",
              "          Math.round((position / fileData.byteLength) * 100);\n",
              "      percent.textContent = `${percentDone}% done`;\n",
              "\n",
              "    } while (position < fileData.byteLength);\n",
              "  }\n",
              "\n",
              "  // All done.\n",
              "  yield {\n",
              "    response: {\n",
              "      action: 'complete',\n",
              "    }\n",
              "  };\n",
              "}\n",
              "\n",
              "scope.google = scope.google || {};\n",
              "scope.google.colab = scope.google.colab || {};\n",
              "scope.google.colab._files = {\n",
              "  _uploadFiles,\n",
              "  _uploadFilesContinue,\n",
              "};\n",
              "})(self);\n",
              "</script> "
            ]
          },
          "metadata": {}
        },
        {
          "output_type": "stream",
          "name": "stdout",
          "text": [
            "Saving kaggle.json to kaggle.json\n"
          ]
        },
        {
          "output_type": "execute_result",
          "data": {
            "text/plain": [
              "{'kaggle.json': b'{\"username\":\"slothonmeth\",\"key\":\"cd262fc091f9601cd35187e083b17459\"}'}"
            ]
          },
          "metadata": {},
          "execution_count": 3
        }
      ]
    },
    {
      "cell_type": "code",
      "source": [
        "! mkdir ~/.kaggle\n",
        "! cp kaggle.json ~/.kaggle/\n",
        "! chmod 600 ~/.kaggle/kaggle.json"
      ],
      "metadata": {
        "id": "t5Hu1L4Xov_z"
      },
      "execution_count": 4,
      "outputs": []
    },
    {
      "cell_type": "code",
      "source": [
        "! kaggle datasets download -d imuhammad/audio-features-and-lyrics-of-spotify-songs\n",
        "! unzip audio-features-and-lyrics-of-spotify-songs.zip -d data"
      ],
      "metadata": {
        "colab": {
          "base_uri": "https://localhost:8080/"
        },
        "id": "co4nTH2Rphsr",
        "outputId": "4a9b774b-e674-4a5d-fdac-4e227841addb"
      },
      "execution_count": 5,
      "outputs": [
        {
          "output_type": "stream",
          "name": "stdout",
          "text": [
            "Downloading audio-features-and-lyrics-of-spotify-songs.zip to /content\n",
            "\r  0% 0.00/12.3M [00:00<?, ?B/s]\r 57% 7.00M/12.3M [00:00<00:00, 72.6MB/s]\n",
            "\r100% 12.3M/12.3M [00:00<00:00, 103MB/s] \n",
            "Archive:  audio-features-and-lyrics-of-spotify-songs.zip\n",
            "  inflating: data/spotify_songs.csv  \n"
          ]
        }
      ]
    },
    {
      "cell_type": "markdown",
      "source": [
        "## Getting to know the Dataset"
      ],
      "metadata": {
        "id": "9InoPBJtrlpy"
      }
    },
    {
      "cell_type": "code",
      "source": [
        "data = pd.read_csv('data/spotify_songs.csv')"
      ],
      "metadata": {
        "id": "XX-bHa45rkpr"
      },
      "execution_count": 6,
      "outputs": []
    },
    {
      "cell_type": "markdown",
      "source": [
        "### Dataset statistics\n",
        "\n",
        "The dataset has 18454 unique tracks from 6031 unique artists"
      ],
      "metadata": {
        "id": "HgTkYqrywtfM"
      }
    },
    {
      "cell_type": "code",
      "source": [
        "data.describe(include='all')[:2]"
      ],
      "metadata": {
        "colab": {
          "base_uri": "https://localhost:8080/",
          "height": 205
        },
        "id": "qI6-F0F7r79q",
        "outputId": "51a892b8-174d-4996-e4dc-1380abd5ac73"
      },
      "execution_count": 7,
      "outputs": [
        {
          "output_type": "execute_result",
          "data": {
            "text/plain": [
              "       track_id track_name track_artist lyrics  track_popularity  \\\n",
              "count     18454      18454        18454  18194           18454.0   \n",
              "unique    18454      15198         6031  15977               NaN   \n",
              "\n",
              "       track_album_id track_album_name track_album_release_date playlist_name  \\\n",
              "count           18454            18454                    18454         18454   \n",
              "unique          14278            12671                     3817           442   \n",
              "\n",
              "       playlist_id  ... loudness     mode  speechiness  acousticness  \\\n",
              "count        18454  ...  18454.0  18454.0      18454.0       18454.0   \n",
              "unique         464  ...      NaN      NaN          NaN           NaN   \n",
              "\n",
              "        instrumentalness  liveness  valence    tempo  duration_ms  language  \n",
              "count            18454.0   18454.0  18454.0  18454.0      18454.0     18194  \n",
              "unique               NaN       NaN      NaN      NaN          NaN        34  \n",
              "\n",
              "[2 rows x 25 columns]"
            ],
            "text/html": [
              "\n",
              "  <div id=\"df-895da96b-1b7d-403d-b61f-51c0f81b333c\">\n",
              "    <div class=\"colab-df-container\">\n",
              "      <div>\n",
              "<style scoped>\n",
              "    .dataframe tbody tr th:only-of-type {\n",
              "        vertical-align: middle;\n",
              "    }\n",
              "\n",
              "    .dataframe tbody tr th {\n",
              "        vertical-align: top;\n",
              "    }\n",
              "\n",
              "    .dataframe thead th {\n",
              "        text-align: right;\n",
              "    }\n",
              "</style>\n",
              "<table border=\"1\" class=\"dataframe\">\n",
              "  <thead>\n",
              "    <tr style=\"text-align: right;\">\n",
              "      <th></th>\n",
              "      <th>track_id</th>\n",
              "      <th>track_name</th>\n",
              "      <th>track_artist</th>\n",
              "      <th>lyrics</th>\n",
              "      <th>track_popularity</th>\n",
              "      <th>track_album_id</th>\n",
              "      <th>track_album_name</th>\n",
              "      <th>track_album_release_date</th>\n",
              "      <th>playlist_name</th>\n",
              "      <th>playlist_id</th>\n",
              "      <th>...</th>\n",
              "      <th>loudness</th>\n",
              "      <th>mode</th>\n",
              "      <th>speechiness</th>\n",
              "      <th>acousticness</th>\n",
              "      <th>instrumentalness</th>\n",
              "      <th>liveness</th>\n",
              "      <th>valence</th>\n",
              "      <th>tempo</th>\n",
              "      <th>duration_ms</th>\n",
              "      <th>language</th>\n",
              "    </tr>\n",
              "  </thead>\n",
              "  <tbody>\n",
              "    <tr>\n",
              "      <th>count</th>\n",
              "      <td>18454</td>\n",
              "      <td>18454</td>\n",
              "      <td>18454</td>\n",
              "      <td>18194</td>\n",
              "      <td>18454.0</td>\n",
              "      <td>18454</td>\n",
              "      <td>18454</td>\n",
              "      <td>18454</td>\n",
              "      <td>18454</td>\n",
              "      <td>18454</td>\n",
              "      <td>...</td>\n",
              "      <td>18454.0</td>\n",
              "      <td>18454.0</td>\n",
              "      <td>18454.0</td>\n",
              "      <td>18454.0</td>\n",
              "      <td>18454.0</td>\n",
              "      <td>18454.0</td>\n",
              "      <td>18454.0</td>\n",
              "      <td>18454.0</td>\n",
              "      <td>18454.0</td>\n",
              "      <td>18194</td>\n",
              "    </tr>\n",
              "    <tr>\n",
              "      <th>unique</th>\n",
              "      <td>18454</td>\n",
              "      <td>15198</td>\n",
              "      <td>6031</td>\n",
              "      <td>15977</td>\n",
              "      <td>NaN</td>\n",
              "      <td>14278</td>\n",
              "      <td>12671</td>\n",
              "      <td>3817</td>\n",
              "      <td>442</td>\n",
              "      <td>464</td>\n",
              "      <td>...</td>\n",
              "      <td>NaN</td>\n",
              "      <td>NaN</td>\n",
              "      <td>NaN</td>\n",
              "      <td>NaN</td>\n",
              "      <td>NaN</td>\n",
              "      <td>NaN</td>\n",
              "      <td>NaN</td>\n",
              "      <td>NaN</td>\n",
              "      <td>NaN</td>\n",
              "      <td>34</td>\n",
              "    </tr>\n",
              "  </tbody>\n",
              "</table>\n",
              "<p>2 rows × 25 columns</p>\n",
              "</div>\n",
              "      <button class=\"colab-df-convert\" onclick=\"convertToInteractive('df-895da96b-1b7d-403d-b61f-51c0f81b333c')\"\n",
              "              title=\"Convert this dataframe to an interactive table.\"\n",
              "              style=\"display:none;\">\n",
              "        \n",
              "  <svg xmlns=\"http://www.w3.org/2000/svg\" height=\"24px\"viewBox=\"0 0 24 24\"\n",
              "       width=\"24px\">\n",
              "    <path d=\"M0 0h24v24H0V0z\" fill=\"none\"/>\n",
              "    <path d=\"M18.56 5.44l.94 2.06.94-2.06 2.06-.94-2.06-.94-.94-2.06-.94 2.06-2.06.94zm-11 1L8.5 8.5l.94-2.06 2.06-.94-2.06-.94L8.5 2.5l-.94 2.06-2.06.94zm10 10l.94 2.06.94-2.06 2.06-.94-2.06-.94-.94-2.06-.94 2.06-2.06.94z\"/><path d=\"M17.41 7.96l-1.37-1.37c-.4-.4-.92-.59-1.43-.59-.52 0-1.04.2-1.43.59L10.3 9.45l-7.72 7.72c-.78.78-.78 2.05 0 2.83L4 21.41c.39.39.9.59 1.41.59.51 0 1.02-.2 1.41-.59l7.78-7.78 2.81-2.81c.8-.78.8-2.07 0-2.86zM5.41 20L4 18.59l7.72-7.72 1.47 1.35L5.41 20z\"/>\n",
              "  </svg>\n",
              "      </button>\n",
              "      \n",
              "  <style>\n",
              "    .colab-df-container {\n",
              "      display:flex;\n",
              "      flex-wrap:wrap;\n",
              "      gap: 12px;\n",
              "    }\n",
              "\n",
              "    .colab-df-convert {\n",
              "      background-color: #E8F0FE;\n",
              "      border: none;\n",
              "      border-radius: 50%;\n",
              "      cursor: pointer;\n",
              "      display: none;\n",
              "      fill: #1967D2;\n",
              "      height: 32px;\n",
              "      padding: 0 0 0 0;\n",
              "      width: 32px;\n",
              "    }\n",
              "\n",
              "    .colab-df-convert:hover {\n",
              "      background-color: #E2EBFA;\n",
              "      box-shadow: 0px 1px 2px rgba(60, 64, 67, 0.3), 0px 1px 3px 1px rgba(60, 64, 67, 0.15);\n",
              "      fill: #174EA6;\n",
              "    }\n",
              "\n",
              "    [theme=dark] .colab-df-convert {\n",
              "      background-color: #3B4455;\n",
              "      fill: #D2E3FC;\n",
              "    }\n",
              "\n",
              "    [theme=dark] .colab-df-convert:hover {\n",
              "      background-color: #434B5C;\n",
              "      box-shadow: 0px 1px 3px 1px rgba(0, 0, 0, 0.15);\n",
              "      filter: drop-shadow(0px 1px 2px rgba(0, 0, 0, 0.3));\n",
              "      fill: #FFFFFF;\n",
              "    }\n",
              "  </style>\n",
              "\n",
              "      <script>\n",
              "        const buttonEl =\n",
              "          document.querySelector('#df-895da96b-1b7d-403d-b61f-51c0f81b333c button.colab-df-convert');\n",
              "        buttonEl.style.display =\n",
              "          google.colab.kernel.accessAllowed ? 'block' : 'none';\n",
              "\n",
              "        async function convertToInteractive(key) {\n",
              "          const element = document.querySelector('#df-895da96b-1b7d-403d-b61f-51c0f81b333c');\n",
              "          const dataTable =\n",
              "            await google.colab.kernel.invokeFunction('convertToInteractive',\n",
              "                                                     [key], {});\n",
              "          if (!dataTable) return;\n",
              "\n",
              "          const docLinkHtml = 'Like what you see? Visit the ' +\n",
              "            '<a target=\"_blank\" href=https://colab.research.google.com/notebooks/data_table.ipynb>data table notebook</a>'\n",
              "            + ' to learn more about interactive tables.';\n",
              "          element.innerHTML = '';\n",
              "          dataTable['output_type'] = 'display_data';\n",
              "          await google.colab.output.renderOutput(dataTable, element);\n",
              "          const docLink = document.createElement('div');\n",
              "          docLink.innerHTML = docLinkHtml;\n",
              "          element.appendChild(docLink);\n",
              "        }\n",
              "      </script>\n",
              "    </div>\n",
              "  </div>\n",
              "  "
            ]
          },
          "metadata": {},
          "execution_count": 7
        }
      ]
    },
    {
      "cell_type": "code",
      "source": [
        "data.head()"
      ],
      "metadata": {
        "colab": {
          "base_uri": "https://localhost:8080/",
          "height": 682
        },
        "id": "EeYzNnTjRXeq",
        "outputId": "ed485de5-15cd-416e-b720-ab9849df35ad"
      },
      "execution_count": 8,
      "outputs": [
        {
          "output_type": "execute_result",
          "data": {
            "text/plain": [
              "                 track_id                                         track_name  \\\n",
              "0  0017A6SJgTbfQVU2EtsPNo                                           Pangarap   \n",
              "1  004s3t0ONYlzxII9PLgU6z                                       I Feel Alive   \n",
              "2  00chLpzhgVjxs1zKC9UScL                                             Poison   \n",
              "3  00cqd6ZsSkLZqGMlQCR0Zo  Baby It's Cold Outside (feat. Christina Aguilera)   \n",
              "4  00emjlCv9azBN0fzuuyLqy                                         Dumb Litty   \n",
              "\n",
              "      track_artist                                             lyrics  \\\n",
              "0  Barbie's Cradle  Minsan pa Nang ako'y napalingon Hindi ko alam ...   \n",
              "1    Steady Rollin  The trees, are singing in the wind The sky blu...   \n",
              "2   Bell Biv DeVoe  NA Yeah, Spyderman and Freeze in full effect U...   \n",
              "3      CeeLo Green  I really can't stay Baby it's cold outside I'v...   \n",
              "4             KARD  Get up out of my business You don't keep me fr...   \n",
              "\n",
              "   track_popularity          track_album_id  \\\n",
              "0                41  1srJQ0njEQgd8w4XSqI4JQ   \n",
              "1                28  3z04Lb9Dsilqw68SHt6jLB   \n",
              "2                 0  6oZ6brjB8x3GoeSYdwJdPc   \n",
              "3                41  3ssspRe42CXkhPxdc12xcp   \n",
              "4                65  7h5X3xhh3peIK9Y0qI5hbK   \n",
              "\n",
              "                       track_album_name track_album_release_date  \\\n",
              "0                                  Trip               2001-01-01   \n",
              "1                           Love & Loss               2017-11-21   \n",
              "2                                  Gold               2005-01-01   \n",
              "3                  CeeLo's Magic Moment               2012-10-29   \n",
              "4  KARD 2nd Digital Single ‘Dumb Litty’               2019-09-22   \n",
              "\n",
              "                                       playlist_name             playlist_id  \\\n",
              "0                                 Pinoy Classic Rock  37i9dQZF1DWYDQ8wBxd7xt   \n",
              "1                                  Hard Rock Workout  3YouF0u7waJnolytf9JCXf   \n",
              "2  Back in the day - R&B, New Jack Swing, Swingbe...  3a9y4eeCJRmG9p4YKfqYIx   \n",
              "3                                     Christmas Soul  6FZYc2BvF7tColxO8PBShV   \n",
              "4                                  K-Party Dance Mix  37i9dQZF1DX4RDXswvP6Mj   \n",
              "\n",
              "   ... loudness mode  speechiness  acousticness  instrumentalness  liveness  \\\n",
              "0  ...  -10.068    1       0.0236       0.27900           0.01170    0.0887   \n",
              "1  ...   -4.739    1       0.0442       0.01170           0.00994    0.3470   \n",
              "2  ...   -7.504    0       0.2160       0.00432           0.00723    0.4890   \n",
              "3  ...   -5.819    0       0.0341       0.68900           0.00000    0.0664   \n",
              "4  ...   -1.993    1       0.0409       0.03700           0.00000    0.1380   \n",
              "\n",
              "   valence    tempo  duration_ms  language  \n",
              "0    0.566   97.091       235440        tl  \n",
              "1    0.404  135.225       373512        en  \n",
              "2    0.650  111.904       262467        en  \n",
              "3    0.405  118.593       243067        en  \n",
              "4    0.240  130.018       193160        en  \n",
              "\n",
              "[5 rows x 25 columns]"
            ],
            "text/html": [
              "\n",
              "  <div id=\"df-27aeb801-f5f5-487b-ba0a-304b3f2f39c1\">\n",
              "    <div class=\"colab-df-container\">\n",
              "      <div>\n",
              "<style scoped>\n",
              "    .dataframe tbody tr th:only-of-type {\n",
              "        vertical-align: middle;\n",
              "    }\n",
              "\n",
              "    .dataframe tbody tr th {\n",
              "        vertical-align: top;\n",
              "    }\n",
              "\n",
              "    .dataframe thead th {\n",
              "        text-align: right;\n",
              "    }\n",
              "</style>\n",
              "<table border=\"1\" class=\"dataframe\">\n",
              "  <thead>\n",
              "    <tr style=\"text-align: right;\">\n",
              "      <th></th>\n",
              "      <th>track_id</th>\n",
              "      <th>track_name</th>\n",
              "      <th>track_artist</th>\n",
              "      <th>lyrics</th>\n",
              "      <th>track_popularity</th>\n",
              "      <th>track_album_id</th>\n",
              "      <th>track_album_name</th>\n",
              "      <th>track_album_release_date</th>\n",
              "      <th>playlist_name</th>\n",
              "      <th>playlist_id</th>\n",
              "      <th>...</th>\n",
              "      <th>loudness</th>\n",
              "      <th>mode</th>\n",
              "      <th>speechiness</th>\n",
              "      <th>acousticness</th>\n",
              "      <th>instrumentalness</th>\n",
              "      <th>liveness</th>\n",
              "      <th>valence</th>\n",
              "      <th>tempo</th>\n",
              "      <th>duration_ms</th>\n",
              "      <th>language</th>\n",
              "    </tr>\n",
              "  </thead>\n",
              "  <tbody>\n",
              "    <tr>\n",
              "      <th>0</th>\n",
              "      <td>0017A6SJgTbfQVU2EtsPNo</td>\n",
              "      <td>Pangarap</td>\n",
              "      <td>Barbie's Cradle</td>\n",
              "      <td>Minsan pa Nang ako'y napalingon Hindi ko alam ...</td>\n",
              "      <td>41</td>\n",
              "      <td>1srJQ0njEQgd8w4XSqI4JQ</td>\n",
              "      <td>Trip</td>\n",
              "      <td>2001-01-01</td>\n",
              "      <td>Pinoy Classic Rock</td>\n",
              "      <td>37i9dQZF1DWYDQ8wBxd7xt</td>\n",
              "      <td>...</td>\n",
              "      <td>-10.068</td>\n",
              "      <td>1</td>\n",
              "      <td>0.0236</td>\n",
              "      <td>0.27900</td>\n",
              "      <td>0.01170</td>\n",
              "      <td>0.0887</td>\n",
              "      <td>0.566</td>\n",
              "      <td>97.091</td>\n",
              "      <td>235440</td>\n",
              "      <td>tl</td>\n",
              "    </tr>\n",
              "    <tr>\n",
              "      <th>1</th>\n",
              "      <td>004s3t0ONYlzxII9PLgU6z</td>\n",
              "      <td>I Feel Alive</td>\n",
              "      <td>Steady Rollin</td>\n",
              "      <td>The trees, are singing in the wind The sky blu...</td>\n",
              "      <td>28</td>\n",
              "      <td>3z04Lb9Dsilqw68SHt6jLB</td>\n",
              "      <td>Love &amp; Loss</td>\n",
              "      <td>2017-11-21</td>\n",
              "      <td>Hard Rock Workout</td>\n",
              "      <td>3YouF0u7waJnolytf9JCXf</td>\n",
              "      <td>...</td>\n",
              "      <td>-4.739</td>\n",
              "      <td>1</td>\n",
              "      <td>0.0442</td>\n",
              "      <td>0.01170</td>\n",
              "      <td>0.00994</td>\n",
              "      <td>0.3470</td>\n",
              "      <td>0.404</td>\n",
              "      <td>135.225</td>\n",
              "      <td>373512</td>\n",
              "      <td>en</td>\n",
              "    </tr>\n",
              "    <tr>\n",
              "      <th>2</th>\n",
              "      <td>00chLpzhgVjxs1zKC9UScL</td>\n",
              "      <td>Poison</td>\n",
              "      <td>Bell Biv DeVoe</td>\n",
              "      <td>NA Yeah, Spyderman and Freeze in full effect U...</td>\n",
              "      <td>0</td>\n",
              "      <td>6oZ6brjB8x3GoeSYdwJdPc</td>\n",
              "      <td>Gold</td>\n",
              "      <td>2005-01-01</td>\n",
              "      <td>Back in the day - R&amp;B, New Jack Swing, Swingbe...</td>\n",
              "      <td>3a9y4eeCJRmG9p4YKfqYIx</td>\n",
              "      <td>...</td>\n",
              "      <td>-7.504</td>\n",
              "      <td>0</td>\n",
              "      <td>0.2160</td>\n",
              "      <td>0.00432</td>\n",
              "      <td>0.00723</td>\n",
              "      <td>0.4890</td>\n",
              "      <td>0.650</td>\n",
              "      <td>111.904</td>\n",
              "      <td>262467</td>\n",
              "      <td>en</td>\n",
              "    </tr>\n",
              "    <tr>\n",
              "      <th>3</th>\n",
              "      <td>00cqd6ZsSkLZqGMlQCR0Zo</td>\n",
              "      <td>Baby It's Cold Outside (feat. Christina Aguilera)</td>\n",
              "      <td>CeeLo Green</td>\n",
              "      <td>I really can't stay Baby it's cold outside I'v...</td>\n",
              "      <td>41</td>\n",
              "      <td>3ssspRe42CXkhPxdc12xcp</td>\n",
              "      <td>CeeLo's Magic Moment</td>\n",
              "      <td>2012-10-29</td>\n",
              "      <td>Christmas Soul</td>\n",
              "      <td>6FZYc2BvF7tColxO8PBShV</td>\n",
              "      <td>...</td>\n",
              "      <td>-5.819</td>\n",
              "      <td>0</td>\n",
              "      <td>0.0341</td>\n",
              "      <td>0.68900</td>\n",
              "      <td>0.00000</td>\n",
              "      <td>0.0664</td>\n",
              "      <td>0.405</td>\n",
              "      <td>118.593</td>\n",
              "      <td>243067</td>\n",
              "      <td>en</td>\n",
              "    </tr>\n",
              "    <tr>\n",
              "      <th>4</th>\n",
              "      <td>00emjlCv9azBN0fzuuyLqy</td>\n",
              "      <td>Dumb Litty</td>\n",
              "      <td>KARD</td>\n",
              "      <td>Get up out of my business You don't keep me fr...</td>\n",
              "      <td>65</td>\n",
              "      <td>7h5X3xhh3peIK9Y0qI5hbK</td>\n",
              "      <td>KARD 2nd Digital Single ‘Dumb Litty’</td>\n",
              "      <td>2019-09-22</td>\n",
              "      <td>K-Party Dance Mix</td>\n",
              "      <td>37i9dQZF1DX4RDXswvP6Mj</td>\n",
              "      <td>...</td>\n",
              "      <td>-1.993</td>\n",
              "      <td>1</td>\n",
              "      <td>0.0409</td>\n",
              "      <td>0.03700</td>\n",
              "      <td>0.00000</td>\n",
              "      <td>0.1380</td>\n",
              "      <td>0.240</td>\n",
              "      <td>130.018</td>\n",
              "      <td>193160</td>\n",
              "      <td>en</td>\n",
              "    </tr>\n",
              "  </tbody>\n",
              "</table>\n",
              "<p>5 rows × 25 columns</p>\n",
              "</div>\n",
              "      <button class=\"colab-df-convert\" onclick=\"convertToInteractive('df-27aeb801-f5f5-487b-ba0a-304b3f2f39c1')\"\n",
              "              title=\"Convert this dataframe to an interactive table.\"\n",
              "              style=\"display:none;\">\n",
              "        \n",
              "  <svg xmlns=\"http://www.w3.org/2000/svg\" height=\"24px\"viewBox=\"0 0 24 24\"\n",
              "       width=\"24px\">\n",
              "    <path d=\"M0 0h24v24H0V0z\" fill=\"none\"/>\n",
              "    <path d=\"M18.56 5.44l.94 2.06.94-2.06 2.06-.94-2.06-.94-.94-2.06-.94 2.06-2.06.94zm-11 1L8.5 8.5l.94-2.06 2.06-.94-2.06-.94L8.5 2.5l-.94 2.06-2.06.94zm10 10l.94 2.06.94-2.06 2.06-.94-2.06-.94-.94-2.06-.94 2.06-2.06.94z\"/><path d=\"M17.41 7.96l-1.37-1.37c-.4-.4-.92-.59-1.43-.59-.52 0-1.04.2-1.43.59L10.3 9.45l-7.72 7.72c-.78.78-.78 2.05 0 2.83L4 21.41c.39.39.9.59 1.41.59.51 0 1.02-.2 1.41-.59l7.78-7.78 2.81-2.81c.8-.78.8-2.07 0-2.86zM5.41 20L4 18.59l7.72-7.72 1.47 1.35L5.41 20z\"/>\n",
              "  </svg>\n",
              "      </button>\n",
              "      \n",
              "  <style>\n",
              "    .colab-df-container {\n",
              "      display:flex;\n",
              "      flex-wrap:wrap;\n",
              "      gap: 12px;\n",
              "    }\n",
              "\n",
              "    .colab-df-convert {\n",
              "      background-color: #E8F0FE;\n",
              "      border: none;\n",
              "      border-radius: 50%;\n",
              "      cursor: pointer;\n",
              "      display: none;\n",
              "      fill: #1967D2;\n",
              "      height: 32px;\n",
              "      padding: 0 0 0 0;\n",
              "      width: 32px;\n",
              "    }\n",
              "\n",
              "    .colab-df-convert:hover {\n",
              "      background-color: #E2EBFA;\n",
              "      box-shadow: 0px 1px 2px rgba(60, 64, 67, 0.3), 0px 1px 3px 1px rgba(60, 64, 67, 0.15);\n",
              "      fill: #174EA6;\n",
              "    }\n",
              "\n",
              "    [theme=dark] .colab-df-convert {\n",
              "      background-color: #3B4455;\n",
              "      fill: #D2E3FC;\n",
              "    }\n",
              "\n",
              "    [theme=dark] .colab-df-convert:hover {\n",
              "      background-color: #434B5C;\n",
              "      box-shadow: 0px 1px 3px 1px rgba(0, 0, 0, 0.15);\n",
              "      filter: drop-shadow(0px 1px 2px rgba(0, 0, 0, 0.3));\n",
              "      fill: #FFFFFF;\n",
              "    }\n",
              "  </style>\n",
              "\n",
              "      <script>\n",
              "        const buttonEl =\n",
              "          document.querySelector('#df-27aeb801-f5f5-487b-ba0a-304b3f2f39c1 button.colab-df-convert');\n",
              "        buttonEl.style.display =\n",
              "          google.colab.kernel.accessAllowed ? 'block' : 'none';\n",
              "\n",
              "        async function convertToInteractive(key) {\n",
              "          const element = document.querySelector('#df-27aeb801-f5f5-487b-ba0a-304b3f2f39c1');\n",
              "          const dataTable =\n",
              "            await google.colab.kernel.invokeFunction('convertToInteractive',\n",
              "                                                     [key], {});\n",
              "          if (!dataTable) return;\n",
              "\n",
              "          const docLinkHtml = 'Like what you see? Visit the ' +\n",
              "            '<a target=\"_blank\" href=https://colab.research.google.com/notebooks/data_table.ipynb>data table notebook</a>'\n",
              "            + ' to learn more about interactive tables.';\n",
              "          element.innerHTML = '';\n",
              "          dataTable['output_type'] = 'display_data';\n",
              "          await google.colab.output.renderOutput(dataTable, element);\n",
              "          const docLink = document.createElement('div');\n",
              "          docLink.innerHTML = docLinkHtml;\n",
              "          element.appendChild(docLink);\n",
              "        }\n",
              "      </script>\n",
              "    </div>\n",
              "  </div>\n",
              "  "
            ]
          },
          "metadata": {},
          "execution_count": 8
        }
      ]
    },
    {
      "cell_type": "code",
      "source": [
        "data.dtypes"
      ],
      "metadata": {
        "colab": {
          "base_uri": "https://localhost:8080/"
        },
        "id": "4wSjdOOSxECj",
        "outputId": "ee1465ac-8c2d-4ffc-f7cc-da3d19c046a2"
      },
      "execution_count": 9,
      "outputs": [
        {
          "output_type": "execute_result",
          "data": {
            "text/plain": [
              "track_id                     object\n",
              "track_name                   object\n",
              "track_artist                 object\n",
              "lyrics                       object\n",
              "track_popularity              int64\n",
              "track_album_id               object\n",
              "track_album_name             object\n",
              "track_album_release_date     object\n",
              "playlist_name                object\n",
              "playlist_id                  object\n",
              "playlist_genre               object\n",
              "playlist_subgenre            object\n",
              "danceability                float64\n",
              "energy                      float64\n",
              "key                           int64\n",
              "loudness                    float64\n",
              "mode                          int64\n",
              "speechiness                 float64\n",
              "acousticness                float64\n",
              "instrumentalness            float64\n",
              "liveness                    float64\n",
              "valence                     float64\n",
              "tempo                       float64\n",
              "duration_ms                   int64\n",
              "language                     object\n",
              "dtype: object"
            ]
          },
          "metadata": {},
          "execution_count": 9
        }
      ]
    },
    {
      "cell_type": "markdown",
      "source": [
        "### Track languages\n",
        "\n",
        "The dataset has predominantly english songs - around ~84% of total songs\n",
        "\n"
      ],
      "metadata": {
        "id": "2xNOI9yQuvag"
      }
    },
    {
      "cell_type": "code",
      "source": [
        "data['language'].value_counts()"
      ],
      "metadata": {
        "colab": {
          "base_uri": "https://localhost:8080/"
        },
        "id": "fOnzWfsuvu5X",
        "outputId": "5840776b-db13-406a-ff69-c9de87cf0fcb"
      },
      "execution_count": 10,
      "outputs": [
        {
          "output_type": "execute_result",
          "data": {
            "text/plain": [
              "en    15405\n",
              "es     1705\n",
              "de      241\n",
              "pt      176\n",
              "it      133\n",
              "pl       76\n",
              "nl       72\n",
              "fr       65\n",
              "tl       63\n",
              "da       40\n",
              "id       34\n",
              "ko       29\n",
              "vi       24\n",
              "so       16\n",
              "sw       16\n",
              "ro       16\n",
              "cy       12\n",
              "no       10\n",
              "hi       10\n",
              "ja        8\n",
              "et        7\n",
              "tr        5\n",
              "sv        5\n",
              "af        5\n",
              "ru        4\n",
              "sq        3\n",
              "hr        3\n",
              "ar        2\n",
              "cs        2\n",
              "ca        2\n",
              "el        2\n",
              "hu        1\n",
              "fi        1\n",
              "sk        1\n",
              "Name: language, dtype: int64"
            ]
          },
          "metadata": {},
          "execution_count": 10
        }
      ]
    },
    {
      "cell_type": "markdown",
      "source": [
        "### Track genres\n",
        "\n",
        "In the dataset, the genre of a music track is determined to be the genre of the playlist it is a part of."
      ],
      "metadata": {
        "id": "5USLw2jcv8En"
      }
    },
    {
      "cell_type": "code",
      "source": [],
      "metadata": {
        "id": "AKyta6DW3dKh"
      },
      "execution_count": 10,
      "outputs": []
    },
    {
      "cell_type": "code",
      "source": [
        "count = data['playlist_genre'].value_counts()\n",
        "count.plot.bar()\n",
        "plt.ylabel('Number of samples')\n",
        "plt.xlabel('Music genres')\n",
        "\n",
        "for index, value in enumerate(count.values):\n",
        "    plt.text(index, value, str(value))\n",
        "plt.show()"
      ],
      "metadata": {
        "colab": {
          "base_uri": "https://localhost:8080/",
          "height": 466
        },
        "id": "bASn_HNkwrmX",
        "outputId": "001680cb-b9c1-489d-bd92-9785e1b50e04"
      },
      "execution_count": 11,
      "outputs": [
        {
          "output_type": "display_data",
          "data": {
            "text/plain": [
              "<Figure size 640x480 with 1 Axes>"
            ],
            "image/png": "[encoded data removed]"
          },
          "metadata": {}
        }
      ]
    },
    {
      "cell_type": "markdown",
      "source": [
        "## Preprocessing"
      ],
      "metadata": {
        "id": "LxdS7pYQvRFS"
      }
    },
    {
      "cell_type": "markdown",
      "source": [
        "### Drop non-english songs\n",
        "There are no good word embeddings available for non-english songs; in addition, only ~16% of total data samples are non-english"
      ],
      "metadata": {
        "id": "Ci11zGgFvhsP"
      }
    },
    {
      "cell_type": "code",
      "source": [
        "data = data.loc[data['language'] == 'en']\n",
        "\n",
        "count = data['playlist_genre'].value_counts()\n",
        "count.plot.bar()\n",
        "plt.ylabel('Number of samples')\n",
        "plt.xlabel('Music genres')\n",
        "plt.show()"
      ],
      "metadata": {
        "colab": {
          "base_uri": "https://localhost:8080/",
          "height": 466
        },
        "id": "YQyan3M1u5wm",
        "outputId": "3a4a85e8-689d-41c5-9549-9c16467d1fc3"
      },
      "execution_count": 12,
      "outputs": [
        {
          "output_type": "display_data",
          "data": {
            "text/plain": [
              "<Figure size 640x480 with 1 Axes>"
            ],
            "image/png": "[encoded data removed]"
          },
          "metadata": {}
        }
      ]
    },
    {
      "cell_type": "markdown",
      "source": [
        "### Remove `latin` songs\n",
        "We do not have enough samples for `latin`"
      ],
      "metadata": {
        "id": "u1hjsLflPjmR"
      }
    },
    {
      "cell_type": "code",
      "source": [
        "data = data.loc[data['playlist_genre'] != 'latin']\n",
        "data['playlist_genre'].value_counts()"
      ],
      "metadata": {
        "colab": {
          "base_uri": "https://localhost:8080/"
        },
        "id": "k8CHukPvPtoq",
        "outputId": "6e0914ce-69c3-4332-cfc9-797c2ed45cce"
      },
      "execution_count": 13,
      "outputs": [
        {
          "output_type": "execute_result",
          "data": {
            "text/plain": [
              "pop     3739\n",
              "rock    3388\n",
              "r&b     3161\n",
              "rap     2502\n",
              "edm     1758\n",
              "Name: playlist_genre, dtype: int64"
            ]
          },
          "metadata": {},
          "execution_count": 13
        }
      ]
    },
    {
      "cell_type": "markdown",
      "source": [
        "### Remove outliers\n",
        "\n",
        "We are going to remove outliers based on song duration"
      ],
      "metadata": {
        "id": "qZTCymggj7Ug"
      }
    },
    {
      "cell_type": "code",
      "source": [
        "plt.figure()\n",
        "B = data[['duration_ms']].boxplot(whis=[1, 99], return_type='dict')\n",
        "lower, upper = [item.get_ydata()[1] for item in B['whiskers']]\n",
        "\n",
        "orig = len(data)\n",
        "data = data[data['duration_ms'] > lower]\n",
        "data = data[data['duration_ms'] < upper]\n",
        "new = len(data)\n",
        "print(f'Number of outliers: {orig - new}\\n')"
      ],
      "metadata": {
        "colab": {
          "base_uri": "https://localhost:8080/",
          "height": 465
        },
        "id": "g5IQ5fPNj691",
        "outputId": "51817189-5726-44b2-f829-e5d236e09335"
      },
      "execution_count": 14,
      "outputs": [
        {
          "output_type": "stream",
          "name": "stdout",
          "text": [
            "Number of outliers: 294\n",
            "\n"
          ]
        },
        {
          "output_type": "display_data",
          "data": {
            "text/plain": [
              "<Figure size 640x480 with 1 Axes>"
            ],
            "image/png": "[encoded data removed]"
          },
          "metadata": {}
        }
      ]
    },
    {
      "cell_type": "code",
      "source": [
        "print(lower)\n",
        "print(upper)\n",
        "\n",
        "print(f'\\nNew genre distribution\\n')\n",
        "count = data['playlist_genre'].value_counts()\n",
        "count.plot.bar()\n",
        "plt.ylabel('Number of samples')\n",
        "plt.xlabel('Music genres')\n",
        "\n",
        "for index, value in enumerate(count.values):\n",
        "    plt.text(index, value, str(value))\n",
        "plt.show()"
      ],
      "metadata": {
        "colab": {
          "base_uri": "https://localhost:8080/",
          "height": 553
        },
        "id": "DTM6zBfawfhw",
        "outputId": "27874238-0e82-4480-ee94-a92b858ec8bc"
      },
      "execution_count": 15,
      "outputs": [
        {
          "output_type": "stream",
          "name": "stdout",
          "text": [
            "125997.0\n",
            "424530.0\n",
            "\n",
            "New genre distribution\n",
            "\n"
          ]
        },
        {
          "output_type": "display_data",
          "data": {
            "text/plain": [
              "<Figure size 640x480 with 1 Axes>"
            ],
            "image/png": "[encoded data removed]"
          },
          "metadata": {}
        }
      ]
    },
    {
      "cell_type": "markdown",
      "source": [
        "### Drop unusable features\n",
        "\n",
        "Features like `track_id`, `track_artist`, `track_album_id`, `playlist_id` are not realistically expected to provide any information regarding a music track's genre"
      ],
      "metadata": {
        "id": "QMbcceX3RHAy"
      }
    },
    {
      "cell_type": "code",
      "source": [
        "data.drop(\n",
        "    ['track_id', 'track_name', 'track_artist', 'track_popularity', 'track_album_id', 'track_album_name', 'track_album_release_date', 'playlist_name', 'playlist_id', 'playlist_subgenre', 'duration_ms', 'language'],\n",
        "    axis=1,\n",
        "    inplace=True\n",
        ")\n",
        "data.dtypes"
      ],
      "metadata": {
        "colab": {
          "base_uri": "https://localhost:8080/"
        },
        "id": "w1_UVgcYRshH",
        "outputId": "a156ae60-dbd1-4465-f473-a64a1e7f9563"
      },
      "execution_count": 16,
      "outputs": [
        {
          "output_type": "execute_result",
          "data": {
            "text/plain": [
              "lyrics               object\n",
              "playlist_genre       object\n",
              "danceability        float64\n",
              "energy              float64\n",
              "key                   int64\n",
              "loudness            float64\n",
              "mode                  int64\n",
              "speechiness         float64\n",
              "acousticness        float64\n",
              "instrumentalness    float64\n",
              "liveness            float64\n",
              "valence             float64\n",
              "tempo               float64\n",
              "dtype: object"
            ]
          },
          "metadata": {},
          "execution_count": 16
        }
      ]
    },
    {
      "cell_type": "markdown",
      "source": [
        "Now we can split our dataset into `X` (input) and `y` (target labels) - here, our target labels are the values in the column `playlist_genre`"
      ],
      "metadata": {
        "id": "2yVmEujxU2zI"
      }
    },
    {
      "cell_type": "code",
      "source": [
        "X = data.loc[:, data.columns != 'playlist_genre']\n",
        "y = data['playlist_genre']"
      ],
      "metadata": {
        "id": "0yWLSosXVFWO"
      },
      "execution_count": 17,
      "outputs": []
    },
    {
      "cell_type": "markdown",
      "source": [
        "### Balance the dataset\n",
        "\n",
        "We will be balancing the data such that we will have 3K samples for each genre by doing random undersampling and oversampling"
      ],
      "metadata": {
        "id": "9dTWE2AcUkrJ"
      }
    },
    {
      "cell_type": "code",
      "source": [
        "n_samples = 3000\n",
        "\n",
        "def sampling_strategy(labels, n_samples, sampling_type):\n",
        "    target_labels = ''\n",
        "    if sampling_type == 'undersampling':\n",
        "        target_labels = labels.value_counts() > n_samples\n",
        "    elif sampling_type == 'oversampling':\n",
        "        target_labels = labels.value_counts() < n_samples\n",
        "    tl = target_labels[target_labels == True].index\n",
        "    sampling_strategy = {}\n",
        "    for target in tl:\n",
        "        sampling_strategy[target] = n_samples\n",
        "    return sampling_strategy"
      ],
      "metadata": {
        "id": "VCT4Z_nUUwGv"
      },
      "execution_count": 18,
      "outputs": []
    },
    {
      "cell_type": "markdown",
      "source": [
        "#### Undersampling majority classes"
      ],
      "metadata": {
        "id": "0iMXUfL6YEjY"
      }
    },
    {
      "cell_type": "code",
      "source": [
        "under_sampler = RandomUnderSampler(sampling_strategy=sampling_strategy(y, n_samples, 'undersampling'))\n",
        "X_under, y_under = under_sampler.fit_resample(X, y)"
      ],
      "metadata": {
        "id": "B11eRMVbYMFd"
      },
      "execution_count": 19,
      "outputs": []
    },
    {
      "cell_type": "markdown",
      "source": [
        "#### Oversampling minority classes"
      ],
      "metadata": {
        "id": "WzyLTiAQZLa5"
      }
    },
    {
      "cell_type": "code",
      "source": [
        "over_sampler = RandomOverSampler(sampling_strategy=sampling_strategy(y_under, n_samples, 'oversampling'))\n",
        "X_bal, y_bal = over_sampler.fit_resample(X_under, y_under)"
      ],
      "metadata": {
        "id": "7i7DIfSmZP2R"
      },
      "execution_count": 20,
      "outputs": []
    },
    {
      "cell_type": "markdown",
      "source": [
        "The new dataset now has 3000 samples for each genre"
      ],
      "metadata": {
        "id": "_HsCi55xZnQ4"
      }
    },
    {
      "cell_type": "code",
      "source": [
        "count = y_bal.value_counts()\n",
        "count.plot.bar()\n",
        "plt.ylabel('Number of samples')\n",
        "plt.xlabel('Music genres')\n",
        "plt.show()"
      ],
      "metadata": {
        "colab": {
          "base_uri": "https://localhost:8080/",
          "height": 466
        },
        "id": "cBq6133uZhDC",
        "outputId": "392a5c96-303f-40a2-8dcc-8213c0749671"
      },
      "execution_count": 21,
      "outputs": [
        {
          "output_type": "display_data",
          "data": {
            "text/plain": [
              "<Figure size 640x480 with 1 Axes>"
            ],
            "image/png": "[encoded data removed]"
          },
          "metadata": {}
        }
      ]
    },
    {
      "cell_type": "markdown",
      "source": [
        "### Convert Lyrics into Document Embeddings\n",
        "\n",
        "We will be using Doc2Vec to express the song lyrics as document embeddings"
      ],
      "metadata": {
        "id": "K4N6Kq0leNZ0"
      }
    },
    {
      "cell_type": "code",
      "source": [
        "nltk.download('punkt')"
      ],
      "metadata": {
        "colab": {
          "base_uri": "https://localhost:8080/"
        },
        "id": "_MvtIImluHZj",
        "outputId": "c78ba5b7-5f38-4e86-9801-0e48039b08e4"
      },
      "execution_count": 22,
      "outputs": [
        {
          "output_type": "stream",
          "name": "stderr",
          "text": [
            "[nltk_data] Downloading package punkt to /root/nltk_data...\n",
            "[nltk_data]   Unzipping tokenizers/punkt.zip.\n"
          ]
        },
        {
          "output_type": "execute_result",
          "data": {
            "text/plain": [
              "True"
            ]
          },
          "metadata": {},
          "execution_count": 22
        }
      ]
    },
    {
      "cell_type": "code",
      "source": [
        "lyric_data = X_bal['lyrics']\n",
        "train_corpus = [TaggedDocument(words=word_tokenize(_d.lower()), tags=[str(i)]) for i, _d in list(enumerate(lyric_data))]\n",
        "model = Doc2Vec(vector_size=100, min_count=1, epochs=25, dm=0)\n",
        "model.build_vocab(train_corpus)\n",
        "# train model\n",
        "model.train(train_corpus, total_examples=model.corpus_count, epochs=model.epochs)"
      ],
      "metadata": {
        "id": "yQuSl_wTrRJi"
      },
      "execution_count": 23,
      "outputs": []
    },
    {
      "cell_type": "markdown",
      "source": [
        "Save the model for future use"
      ],
      "metadata": {
        "id": "tU3ms1bZukS4"
      }
    },
    {
      "cell_type": "code",
      "source": [
        "from google.colab import drive\n",
        "drive.mount('/content/drive')"
      ],
      "metadata": {
        "colab": {
          "base_uri": "https://localhost:8080/"
        },
        "id": "LJ1tZjZeu6Vv",
        "outputId": "f9be7038-9299-4358-d4b1-ea3fff9d340f"
      },
      "execution_count": 24,
      "outputs": [
        {
          "output_type": "stream",
          "name": "stdout",
          "text": [
            "Mounted at /content/drive\n"
          ]
        }
      ]
    },
    {
      "cell_type": "code",
      "source": [
        "model.save('drive/MyDrive/Colab Notebooks (1)/Muse/lyric_word_embeddings_100')"
      ],
      "metadata": {
        "id": "H84_Ac1Mulyt"
      },
      "execution_count": 29,
      "outputs": []
    },
    {
      "cell_type": "markdown",
      "source": [
        "Load the model"
      ],
      "metadata": {
        "id": "BNdTdm3nupvw"
      }
    },
    {
      "cell_type": "code",
      "source": [
        "model = Doc2Vec.load('drive/MyDrive/Colab Notebooks (1)/Muse/lyric_word_embeddings_100')"
      ],
      "metadata": {
        "id": "WQc0lDAMuskP"
      },
      "execution_count": 32,
      "outputs": []
    },
    {
      "cell_type": "markdown",
      "source": [
        "Use the word embedding model to create required lyric embeddings"
      ],
      "metadata": {
        "id": "8N0f6yc-vqGp"
      }
    },
    {
      "cell_type": "code",
      "source": [
        "X_lyric_emd = pd.DataFrame([model.dv[f'{i}'] for i in range(len(X_bal))])"
      ],
      "metadata": {
        "id": "dPJQiW3Uvvw6"
      },
      "execution_count": 33,
      "outputs": []
    },
    {
      "cell_type": "markdown",
      "source": [
        "We now have our final dataset with audio features and lyric embeddings"
      ],
      "metadata": {
        "id": "xdiEzDmLxRYG"
      }
    },
    {
      "cell_type": "code",
      "source": [
        "y = y_bal\n",
        "\n",
        "X = X_bal.copy()\n",
        "for c in X_lyric_emd.columns:\n",
        "    X[c] = X_lyric_emd[c]\n",
        "X.head()"
      ],
      "metadata": {
        "colab": {
          "base_uri": "https://localhost:8080/",
          "height": 838
        },
        "id": "A1P6hl31xVcT",
        "outputId": "efa8c7f8-3ebe-4233-93d3-4c037d837bfc"
      },
      "execution_count": 34,
      "outputs": [
        {
          "output_type": "stream",
          "name": "stderr",
          "text": [
            "<ipython-input-34-05e55eafb027>:5: PerformanceWarning: DataFrame is highly fragmented.  This is usually the result of calling `frame.insert` many times, which has poor performance.  Consider joining all columns at once using pd.concat(axis=1) instead. To get a de-fragmented frame, use `newframe = frame.copy()`\n",
            "  X[c] = X_lyric_emd[c]\n",
            "<ipython-input-34-05e55eafb027>:5: PerformanceWarning: DataFrame is highly fragmented.  This is usually the result of calling `frame.insert` many times, which has poor performance.  Consider joining all columns at once using pd.concat(axis=1) instead. To get a de-fragmented frame, use `newframe = frame.copy()`\n",
            "  X[c] = X_lyric_emd[c]\n",
            "<ipython-input-34-05e55eafb027>:5: PerformanceWarning: DataFrame is highly fragmented.  This is usually the result of calling `frame.insert` many times, which has poor performance.  Consider joining all columns at once using pd.concat(axis=1) instead. To get a de-fragmented frame, use `newframe = frame.copy()`\n",
            "  X[c] = X_lyric_emd[c]\n"
          ]
        },
        {
          "output_type": "execute_result",
          "data": {
            "text/plain": [
              "                                              lyrics  danceability  energy  \\\n",
              "0  Don't run away, it's getting colder Our hearts...         0.573   0.746   \n",
              "1  I love when you pulling up in your jeep Pumpin...         0.627   0.832   \n",
              "2  Somebody said you got a new friend But does sh...         0.608   0.648   \n",
              "3  I always say sorry But that word don't mean no...         0.531   0.630   \n",
              "4  When she's ok Then I'm alright When she's awak...         0.656   0.752   \n",
              "\n",
              "   key  loudness  mode  speechiness  acousticness  instrumentalness  liveness  \\\n",
              "0   10    -4.894     1       0.0421       0.02490          0.000000    0.3610   \n",
              "1    6    -5.525     0       0.0478       0.00939          0.003050    0.1150   \n",
              "2    1    -5.569     1       0.0360       0.01940          0.001040    0.0897   \n",
              "3    2    -5.677     1       0.0433       0.21600          0.000000    0.0540   \n",
              "4    4    -5.622     1       0.0378       0.35400          0.000011    0.0707   \n",
              "\n",
              "   ...        90        91        92        93        94        95        96  \\\n",
              "0  ...  0.823995 -0.085404  0.092843  0.138870 -0.399549 -0.076123  0.080800   \n",
              "1  ...  0.298408  0.254269 -1.183548 -0.021195 -0.878173  0.356700  0.745395   \n",
              "2  ... -0.138318 -0.223128  0.601670  0.284833 -0.336352  0.775066 -0.245380   \n",
              "3  ... -0.299966  0.265858 -0.569059 -0.201025 -0.166420  0.528493 -1.120215   \n",
              "4  ... -0.189101  0.325383 -0.535189  0.414654  0.057540 -0.601735 -0.285042   \n",
              "\n",
              "         97        98        99  \n",
              "0 -0.017572 -0.020102  0.552862  \n",
              "1 -0.456856 -0.365257 -0.006267  \n",
              "2 -1.319897  0.540266  0.823700  \n",
              "3 -0.640656 -0.214097 -0.208991  \n",
              "4  0.078456  0.523028  0.601767  \n",
              "\n",
              "[5 rows x 112 columns]"
            ],
            "text/html": [
              "\n",
              "  <div id=\"df-dd965da3-79a3-45b3-a5c5-5d18f97e2300\">\n",
              "    <div class=\"colab-df-container\">\n",
              "      <div>\n",
              "<style scoped>\n",
              "    .dataframe tbody tr th:only-of-type {\n",
              "        vertical-align: middle;\n",
              "    }\n",
              "\n",
              "    .dataframe tbody tr th {\n",
              "        vertical-align: top;\n",
              "    }\n",
              "\n",
              "    .dataframe thead th {\n",
              "        text-align: right;\n",
              "    }\n",
              "</style>\n",
              "<table border=\"1\" class=\"dataframe\">\n",
              "  <thead>\n",
              "    <tr style=\"text-align: right;\">\n",
              "      <th></th>\n",
              "      <th>lyrics</th>\n",
              "      <th>danceability</th>\n",
              "      <th>energy</th>\n",
              "      <th>key</th>\n",
              "      <th>loudness</th>\n",
              "      <th>mode</th>\n",
              "      <th>speechiness</th>\n",
              "      <th>acousticness</th>\n",
              "      <th>instrumentalness</th>\n",
              "      <th>liveness</th>\n",
              "      <th>...</th>\n",
              "      <th>90</th>\n",
              "      <th>91</th>\n",
              "      <th>92</th>\n",
              "      <th>93</th>\n",
              "      <th>94</th>\n",
              "      <th>95</th>\n",
              "      <th>96</th>\n",
              "      <th>97</th>\n",
              "      <th>98</th>\n",
              "      <th>99</th>\n",
              "    </tr>\n",
              "  </thead>\n",
              "  <tbody>\n",
              "    <tr>\n",
              "      <th>0</th>\n",
              "      <td>Don't run away, it's getting colder Our hearts...</td>\n",
              "      <td>0.573</td>\n",
              "      <td>0.746</td>\n",
              "      <td>10</td>\n",
              "      <td>-4.894</td>\n",
              "      <td>1</td>\n",
              "      <td>0.0421</td>\n",
              "      <td>0.02490</td>\n",
              "      <td>0.000000</td>\n",
              "      <td>0.3610</td>\n",
              "      <td>...</td>\n",
              "      <td>0.823995</td>\n",
              "      <td>-0.085404</td>\n",
              "      <td>0.092843</td>\n",
              "      <td>0.138870</td>\n",
              "      <td>-0.399549</td>\n",
              "      <td>-0.076123</td>\n",
              "      <td>0.080800</td>\n",
              "      <td>-0.017572</td>\n",
              "      <td>-0.020102</td>\n",
              "      <td>0.552862</td>\n",
              "    </tr>\n",
              "    <tr>\n",
              "      <th>1</th>\n",
              "      <td>I love when you pulling up in your jeep Pumpin...</td>\n",
              "      <td>0.627</td>\n",
              "      <td>0.832</td>\n",
              "      <td>6</td>\n",
              "      <td>-5.525</td>\n",
              "      <td>0</td>\n",
              "      <td>0.0478</td>\n",
              "      <td>0.00939</td>\n",
              "      <td>0.003050</td>\n",
              "      <td>0.1150</td>\n",
              "      <td>...</td>\n",
              "      <td>0.298408</td>\n",
              "      <td>0.254269</td>\n",
              "      <td>-1.183548</td>\n",
              "      <td>-0.021195</td>\n",
              "      <td>-0.878173</td>\n",
              "      <td>0.356700</td>\n",
              "      <td>0.745395</td>\n",
              "      <td>-0.456856</td>\n",
              "      <td>-0.365257</td>\n",
              "      <td>-0.006267</td>\n",
              "    </tr>\n",
              "    <tr>\n",
              "      <th>2</th>\n",
              "      <td>Somebody said you got a new friend But does sh...</td>\n",
              "      <td>0.608</td>\n",
              "      <td>0.648</td>\n",
              "      <td>1</td>\n",
              "      <td>-5.569</td>\n",
              "      <td>1</td>\n",
              "      <td>0.0360</td>\n",
              "      <td>0.01940</td>\n",
              "      <td>0.001040</td>\n",
              "      <td>0.0897</td>\n",
              "      <td>...</td>\n",
              "      <td>-0.138318</td>\n",
              "      <td>-0.223128</td>\n",
              "      <td>0.601670</td>\n",
              "      <td>0.284833</td>\n",
              "      <td>-0.336352</td>\n",
              "      <td>0.775066</td>\n",
              "      <td>-0.245380</td>\n",
              "      <td>-1.319897</td>\n",
              "      <td>0.540266</td>\n",
              "      <td>0.823700</td>\n",
              "    </tr>\n",
              "    <tr>\n",
              "      <th>3</th>\n",
              "      <td>I always say sorry But that word don't mean no...</td>\n",
              "      <td>0.531</td>\n",
              "      <td>0.630</td>\n",
              "      <td>2</td>\n",
              "      <td>-5.677</td>\n",
              "      <td>1</td>\n",
              "      <td>0.0433</td>\n",
              "      <td>0.21600</td>\n",
              "      <td>0.000000</td>\n",
              "      <td>0.0540</td>\n",
              "      <td>...</td>\n",
              "      <td>-0.299966</td>\n",
              "      <td>0.265858</td>\n",
              "      <td>-0.569059</td>\n",
              "      <td>-0.201025</td>\n",
              "      <td>-0.166420</td>\n",
              "      <td>0.528493</td>\n",
              "      <td>-1.120215</td>\n",
              "      <td>-0.640656</td>\n",
              "      <td>-0.214097</td>\n",
              "      <td>-0.208991</td>\n",
              "    </tr>\n",
              "    <tr>\n",
              "      <th>4</th>\n",
              "      <td>When she's ok Then I'm alright When she's awak...</td>\n",
              "      <td>0.656</td>\n",
              "      <td>0.752</td>\n",
              "      <td>4</td>\n",
              "      <td>-5.622</td>\n",
              "      <td>1</td>\n",
              "      <td>0.0378</td>\n",
              "      <td>0.35400</td>\n",
              "      <td>0.000011</td>\n",
              "      <td>0.0707</td>\n",
              "      <td>...</td>\n",
              "      <td>-0.189101</td>\n",
              "      <td>0.325383</td>\n",
              "      <td>-0.535189</td>\n",
              "      <td>0.414654</td>\n",
              "      <td>0.057540</td>\n",
              "      <td>-0.601735</td>\n",
              "      <td>-0.285042</td>\n",
              "      <td>0.078456</td>\n",
              "      <td>0.523028</td>\n",
              "      <td>0.601767</td>\n",
              "    </tr>\n",
              "  </tbody>\n",
              "</table>\n",
              "<p>5 rows × 112 columns</p>\n",
              "</div>\n",
              "      <button class=\"colab-df-convert\" onclick=\"convertToInteractive('df-dd965da3-79a3-45b3-a5c5-5d18f97e2300')\"\n",
              "              title=\"Convert this dataframe to an interactive table.\"\n",
              "              style=\"display:none;\">\n",
              "        \n",
              "  <svg xmlns=\"http://www.w3.org/2000/svg\" height=\"24px\"viewBox=\"0 0 24 24\"\n",
              "       width=\"24px\">\n",
              "    <path d=\"M0 0h24v24H0V0z\" fill=\"none\"/>\n",
              "    <path d=\"M18.56 5.44l.94 2.06.94-2.06 2.06-.94-2.06-.94-.94-2.06-.94 2.06-2.06.94zm-11 1L8.5 8.5l.94-2.06 2.06-.94-2.06-.94L8.5 2.5l-.94 2.06-2.06.94zm10 10l.94 2.06.94-2.06 2.06-.94-2.06-.94-.94-2.06-.94 2.06-2.06.94z\"/><path d=\"M17.41 7.96l-1.37-1.37c-.4-.4-.92-.59-1.43-.59-.52 0-1.04.2-1.43.59L10.3 9.45l-7.72 7.72c-.78.78-.78 2.05 0 2.83L4 21.41c.39.39.9.59 1.41.59.51 0 1.02-.2 1.41-.59l7.78-7.78 2.81-2.81c.8-.78.8-2.07 0-2.86zM5.41 20L4 18.59l7.72-7.72 1.47 1.35L5.41 20z\"/>\n",
              "  </svg>\n",
              "      </button>\n",
              "      \n",
              "  <style>\n",
              "    .colab-df-container {\n",
              "      display:flex;\n",
              "      flex-wrap:wrap;\n",
              "      gap: 12px;\n",
              "    }\n",
              "\n",
              "    .colab-df-convert {\n",
              "      background-color: #E8F0FE;\n",
              "      border: none;\n",
              "      border-radius: 50%;\n",
              "      cursor: pointer;\n",
              "      display: none;\n",
              "      fill: #1967D2;\n",
              "      height: 32px;\n",
              "      padding: 0 0 0 0;\n",
              "      width: 32px;\n",
              "    }\n",
              "\n",
              "    .colab-df-convert:hover {\n",
              "      background-color: #E2EBFA;\n",
              "      box-shadow: 0px 1px 2px rgba(60, 64, 67, 0.3), 0px 1px 3px 1px rgba(60, 64, 67, 0.15);\n",
              "      fill: #174EA6;\n",
              "    }\n",
              "\n",
              "    [theme=dark] .colab-df-convert {\n",
              "      background-color: #3B4455;\n",
              "      fill: #D2E3FC;\n",
              "    }\n",
              "\n",
              "    [theme=dark] .colab-df-convert:hover {\n",
              "      background-color: #434B5C;\n",
              "      box-shadow: 0px 1px 3px 1px rgba(0, 0, 0, 0.15);\n",
              "      filter: drop-shadow(0px 1px 2px rgba(0, 0, 0, 0.3));\n",
              "      fill: #FFFFFF;\n",
              "    }\n",
              "  </style>\n",
              "\n",
              "      <script>\n",
              "        const buttonEl =\n",
              "          document.querySelector('#df-dd965da3-79a3-45b3-a5c5-5d18f97e2300 button.colab-df-convert');\n",
              "        buttonEl.style.display =\n",
              "          google.colab.kernel.accessAllowed ? 'block' : 'none';\n",
              "\n",
              "        async function convertToInteractive(key) {\n",
              "          const element = document.querySelector('#df-dd965da3-79a3-45b3-a5c5-5d18f97e2300');\n",
              "          const dataTable =\n",
              "            await google.colab.kernel.invokeFunction('convertToInteractive',\n",
              "                                                     [key], {});\n",
              "          if (!dataTable) return;\n",
              "\n",
              "          const docLinkHtml = 'Like what you see? Visit the ' +\n",
              "            '<a target=\"_blank\" href=https://colab.research.google.com/notebooks/data_table.ipynb>data table notebook</a>'\n",
              "            + ' to learn more about interactive tables.';\n",
              "          element.innerHTML = '';\n",
              "          dataTable['output_type'] = 'display_data';\n",
              "          await google.colab.output.renderOutput(dataTable, element);\n",
              "          const docLink = document.createElement('div');\n",
              "          docLink.innerHTML = docLinkHtml;\n",
              "          element.appendChild(docLink);\n",
              "        }\n",
              "      </script>\n",
              "    </div>\n",
              "  </div>\n",
              "  "
            ]
          },
          "metadata": {},
          "execution_count": 34
        }
      ]
    },
    {
      "cell_type": "markdown",
      "source": [
        "### Split dataset into train-test-validation\n",
        "\n",
        "We will be dividing the dataset into a 70-15-15 train-test-validation splits"
      ],
      "metadata": {
        "id": "ORMYfUeZaDOO"
      }
    },
    {
      "cell_type": "code",
      "source": [
        "def train_test_validation_split(x_data, y_data):\n",
        "    # training split is 70% of total data\n",
        "    X_train, X_test, y_train, y_test = train_test_split(x_data, y_data, test_size=0.30, random_state=1)\n",
        "    # divide remaining 30% in half for test and validation splits\n",
        "    X_test, X_val, y_test, y_val = train_test_split(X_test, y_test, test_size=0.5, random_state=1)\n",
        "\n",
        "    return X_train, y_train, X_test, y_test, X_val, y_val"
      ],
      "metadata": {
        "id": "2HVAXm1kaOqw"
      },
      "execution_count": 35,
      "outputs": []
    },
    {
      "cell_type": "code",
      "source": [
        "X_train, y_train, X_test, y_test, X_val, y_val = train_test_validation_split(X, y)"
      ],
      "metadata": {
        "id": "l-7DIoIUbk8n"
      },
      "execution_count": 36,
      "outputs": []
    },
    {
      "cell_type": "markdown",
      "source": [
        "## Training the models\n",
        "\n",
        "We will have two sets of models:\n",
        "- the first set of models to classify based on lyric word embeddings\n",
        "- the second set of models to classify based on audio features\n",
        "\n",
        "The models are split up in this form because the assumption is that models \"learn\" differently when given lyrics as input as compared to audio features\n",
        "\n",
        "After training the sets of models, we will have them predict on the validation split, and note their validation accuracies.\n",
        "\n",
        "We will finally create an ensemble from both sets of models, where predictions from each model is weighted by their validation accuracies (a measure of how much confidence we have in a model's prediction) - the predicted label with the highest weight will be the final label."
      ],
      "metadata": {
        "id": "yXP7vXst-IUS"
      }
    },
    {
      "cell_type": "code",
      "source": [
        "def train_models_and_weights(X_train, y_train, X_valid, y_valid, model, model_name):\n",
        "    model.fit(X_train, y_train)\n",
        "    y_pred = model.predict(X_valid)\n",
        "    acc = accuracy_score(y_valid, y_pred)\n",
        "    print(f'Validation accuracy for {model_name}: {acc}')\n",
        "    return model, acc"
      ],
      "metadata": {
        "id": "_BzEYGrKK8JB"
      },
      "execution_count": 37,
      "outputs": []
    },
    {
      "cell_type": "code",
      "source": [
        "lyric_models = []\n",
        "lyric_model_weights = []\n",
        "\n",
        "audio_models = []\n",
        "audio_model_weights = []"
      ],
      "metadata": {
        "id": "3A8nUOfvLhVD"
      },
      "execution_count": 38,
      "outputs": []
    },
    {
      "cell_type": "markdown",
      "source": [
        "### Models trained on lyric document embeddings"
      ],
      "metadata": {
        "id": "KtQzNHhZKf17"
      }
    },
    {
      "cell_type": "markdown",
      "source": [
        "#### One vs Rest SVC"
      ],
      "metadata": {
        "id": "oOb3nz9ZPVgp"
      }
    },
    {
      "cell_type": "code",
      "source": [
        "ovr_svc, acc = train_models_and_weights(\n",
        "    X_train.iloc[:, 12:], y_train, X_val.iloc[:, 12:], y_val, OneVsRestClassifier(SVC()), 'OneVsRest (SVC)'\n",
        ")\n",
        "lyric_models.append(ovr_svc)\n",
        "lyric_model_weights.append(acc)"
      ],
      "metadata": {
        "colab": {
          "base_uri": "https://localhost:8080/"
        },
        "id": "G2jF5zX9JPgM",
        "outputId": "23e5003e-0f5a-4c63-ef3a-6511d6cfc912"
      },
      "execution_count": 39,
      "outputs": [
        {
          "output_type": "stream",
          "name": "stdout",
          "text": [
            "Validation accuracy for OneVsRest (SVC): 0.6493333333333333\n"
          ]
        }
      ]
    },
    {
      "cell_type": "markdown",
      "source": [
        "#### One vs Rest Random Forest Classifier"
      ],
      "metadata": {
        "id": "kEQoI0DWMPKI"
      }
    },
    {
      "cell_type": "code",
      "source": [
        "rf, acc = train_models_and_weights(\n",
        "    X_train.iloc[:, 12:], y_train, X_val.iloc[:, 12:], y_val, OneVsRestClassifier(RandomForestClassifier()), 'One vs Rest (Random Forest)'\n",
        ")\n",
        "lyric_models.append(rf)\n",
        "lyric_model_weights.append(acc)"
      ],
      "metadata": {
        "colab": {
          "base_uri": "https://localhost:8080/"
        },
        "id": "oc-9I1I8P45t",
        "outputId": "93c422e3-445d-4786-91dd-50a07a18fce5"
      },
      "execution_count": 40,
      "outputs": [
        {
          "output_type": "stream",
          "name": "stdout",
          "text": [
            "Validation accuracy for One vs Rest (Random Forest): 0.6315555555555555\n"
          ]
        }
      ]
    },
    {
      "cell_type": "markdown",
      "source": [
        "#### One vs Rest Extra Trees Classifier"
      ],
      "metadata": {
        "id": "Ul8jXY8QPcBF"
      }
    },
    {
      "cell_type": "code",
      "source": [
        "ovr_et, acc = train_models_and_weights(\n",
        "    X_train.iloc[:, 12:], y_train, X_val.iloc[:, 12:], y_val, OneVsRestClassifier(ExtraTreesClassifier()), 'OneVsRest (Extra Trees)'\n",
        ")\n",
        "lyric_models.append(ovr_et)\n",
        "lyric_model_weights.append(acc)"
      ],
      "metadata": {
        "colab": {
          "base_uri": "https://localhost:8080/"
        },
        "id": "R3ToGqdjHNW2",
        "outputId": "2a2e4f64-6d33-4e8e-d909-794604ea5e6d"
      },
      "execution_count": 41,
      "outputs": [
        {
          "output_type": "stream",
          "name": "stdout",
          "text": [
            "Validation accuracy for OneVsRest (Extra Trees): 0.6337777777777778\n"
          ]
        }
      ]
    },
    {
      "cell_type": "markdown",
      "source": [
        "### Models trained on audio features"
      ],
      "metadata": {
        "id": "zy0BzkAtQX4_"
      }
    },
    {
      "cell_type": "markdown",
      "source": [
        "#### One vs Rest Random Forest Classifier"
      ],
      "metadata": {
        "id": "jZHM3pUxUg73"
      }
    },
    {
      "cell_type": "code",
      "source": [
        "ovr_rf, acc = train_models_and_weights(\n",
        "    X_train.iloc[:, 1:12], y_train, X_val.iloc[:, 1:12], y_val, OneVsRestClassifier(RandomForestClassifier()), 'One vs Rest (Random Forest)'\n",
        ")\n",
        "audio_models.append(ovr_rf)\n",
        "audio_model_weights.append(acc)"
      ],
      "metadata": {
        "colab": {
          "base_uri": "https://localhost:8080/"
        },
        "id": "RdMrbyKgRRjV",
        "outputId": "ecd1359c-21e2-4b92-ac3b-da93248a4488"
      },
      "execution_count": 42,
      "outputs": [
        {
          "output_type": "stream",
          "name": "stdout",
          "text": [
            "Validation accuracy for One vs Rest (Random Forest): 0.6711111111111111\n"
          ]
        }
      ]
    },
    {
      "cell_type": "markdown",
      "source": [
        "#### One vs Rest Extra Trees Classifier"
      ],
      "metadata": {
        "id": "EUuJ1XIdUjWn"
      }
    },
    {
      "cell_type": "code",
      "source": [
        "ovr_et, acc = train_models_and_weights(\n",
        "    X_train.iloc[:, 1:12], y_train, X_val.iloc[:, 1:12], y_val, OneVsRestClassifier(ExtraTreesClassifier()), 'One vs Rest (Extra Trees)'\n",
        ")\n",
        "audio_models.append(ovr_et)\n",
        "audio_model_weights.append(acc)"
      ],
      "metadata": {
        "colab": {
          "base_uri": "https://localhost:8080/"
        },
        "id": "phZRYQA1QWYR",
        "outputId": "34adc361-f7b9-458d-86ea-0da3a3e2b8fd"
      },
      "execution_count": 43,
      "outputs": [
        {
          "output_type": "stream",
          "name": "stdout",
          "text": [
            "Validation accuracy for One vs Rest (Extra Trees): 0.6733333333333333\n"
          ]
        }
      ]
    },
    {
      "cell_type": "markdown",
      "source": [
        "#### One vs Rest Histogram-based Gradient Boosting Classifier"
      ],
      "metadata": {
        "id": "pVF7SCKFUl78"
      }
    },
    {
      "cell_type": "code",
      "source": [
        "from sklearn.ensemble import HistGradientBoostingClassifier\n",
        "ovr_hgb, acc = train_models_and_weights(\n",
        "    X_train.iloc[:, 1:12], y_train, X_val.iloc[:, 1:12], y_val, OneVsRestClassifier(HistGradientBoostingClassifier()), 'One vs Rest (Random Forest)'\n",
        ")\n",
        "audio_models.append(ovr_hgb)\n",
        "audio_model_weights.append(acc)"
      ],
      "metadata": {
        "colab": {
          "base_uri": "https://localhost:8080/"
        },
        "id": "2vR3PKFaRVBQ",
        "outputId": "8edd5a91-f8b5-42cb-8b3b-b39d354b4b83"
      },
      "execution_count": 44,
      "outputs": [
        {
          "output_type": "stream",
          "name": "stdout",
          "text": [
            "Validation accuracy for One vs Rest (Random Forest): 0.6435555555555555\n"
          ]
        }
      ]
    },
    {
      "cell_type": "markdown",
      "source": [
        "## Testing the models\n",
        "\n",
        "The plan is to conduct four experiments:\n",
        "- Test on each model separately\n",
        "- Test on an ensemble of lyric-trained model\n",
        "- Test on an ensemble of audio-feature-trained model\n",
        "- Test on the multi-modal model of all the models combined"
      ],
      "metadata": {
        "id": "Ng2CoHZZVLVa"
      }
    },
    {
      "cell_type": "markdown",
      "source": [
        "### The ensemble model\n",
        "\n",
        "The ensemble model's prediction will be a weighted majority vote of each separate model, where the weight of a model's prediction is it's validation accuracy"
      ],
      "metadata": {
        "id": "hXc2AfwHVnnG"
      }
    },
    {
      "cell_type": "code",
      "source": [
        "def get_ensemble_prediction(n_preds, y_preds, model_weights):\n",
        "    final_pred = []\n",
        "    for i in range(n_preds):\n",
        "        weighted_labels = {'pop': 0, 'rock': 0, 'r&b': 0, 'rap': 0, 'edm': 0}\n",
        "        preds = [y_pred[i] for y_pred in y_preds]\n",
        "        for j, pred in enumerate(preds):\n",
        "            weighted_labels[pred] += model_weights[j]\n",
        "        final_pred.append(max(weighted_labels, key=weighted_labels.get))\n",
        "    return final_pred"
      ],
      "metadata": {
        "id": "BCgaXyQHWku8"
      },
      "execution_count": 45,
      "outputs": []
    },
    {
      "cell_type": "code",
      "source": [
        "lyric_model_preds = []\n",
        "audio_model_preds = []\n",
        "n_preds = len(y_test)"
      ],
      "metadata": {
        "id": "_FvlQ4gKal8m"
      },
      "execution_count": 46,
      "outputs": []
    },
    {
      "cell_type": "markdown",
      "source": [
        "### Testing on lyric-trained models"
      ],
      "metadata": {
        "id": "8fJOJFuRacz9"
      }
    },
    {
      "cell_type": "code",
      "source": [
        "for model in lyric_models:\n",
        "    y_pred = model.predict(X_test.iloc[:, 12:])\n",
        "    lyric_model_preds.append(y_pred)\n",
        "    print(f'{model}:\\n')\n",
        "    report = classification_report(y_test, y_pred, output_dict=True)\n",
        "    print(f'Accuracy\\t\\t: {report[\"accuracy\"]}')\n",
        "    print(f'Weighted Average F1\\t: {report[\"weighted avg\"][\"f1-score\"]}')\n",
        "    print()\n",
        "    print(classification_report(y_test, y_pred))"
      ],
      "metadata": {
        "colab": {
          "base_uri": "https://localhost:8080/"
        },
        "id": "wPM0_D7zahyV",
        "outputId": "931bde1c-3c4a-415d-b952-d074ced52b8c"
      },
      "execution_count": 47,
      "outputs": [
        {
          "output_type": "stream",
          "name": "stdout",
          "text": [
            "OneVsRestClassifier(estimator=SVC()):\n",
            "\n",
            "Accuracy\t\t: 0.6168888888888889\n",
            "Weighted Average F1\t: 0.5997898847845186\n",
            "\n",
            "              precision    recall  f1-score   support\n",
            "\n",
            "         edm       0.61      0.74      0.67       457\n",
            "         pop       0.51      0.26      0.34       445\n",
            "         r&b       0.57      0.56      0.56       442\n",
            "         rap       0.75      0.86      0.80       449\n",
            "        rock       0.58      0.66      0.62       457\n",
            "\n",
            "    accuracy                           0.62      2250\n",
            "   macro avg       0.60      0.62      0.60      2250\n",
            "weighted avg       0.60      0.62      0.60      2250\n",
            "\n",
            "OneVsRestClassifier(estimator=RandomForestClassifier()):\n",
            "\n",
            "Accuracy\t\t: 0.6071111111111112\n",
            "Weighted Average F1\t: 0.6005674228527924\n",
            "\n",
            "              precision    recall  f1-score   support\n",
            "\n",
            "         edm       0.70      0.70      0.70       457\n",
            "         pop       0.44      0.36      0.39       445\n",
            "         r&b       0.54      0.51      0.53       442\n",
            "         rap       0.75      0.85      0.79       449\n",
            "        rock       0.56      0.61      0.58       457\n",
            "\n",
            "    accuracy                           0.61      2250\n",
            "   macro avg       0.60      0.61      0.60      2250\n",
            "weighted avg       0.60      0.61      0.60      2250\n",
            "\n",
            "OneVsRestClassifier(estimator=ExtraTreesClassifier()):\n",
            "\n",
            "Accuracy\t\t: 0.6151111111111112\n",
            "Weighted Average F1\t: 0.6082476890183843\n",
            "\n",
            "              precision    recall  f1-score   support\n",
            "\n",
            "         edm       0.74      0.70      0.72       457\n",
            "         pop       0.43      0.34      0.38       445\n",
            "         r&b       0.56      0.54      0.55       442\n",
            "         rap       0.74      0.86      0.79       449\n",
            "        rock       0.55      0.63      0.59       457\n",
            "\n",
            "    accuracy                           0.62      2250\n",
            "   macro avg       0.61      0.61      0.61      2250\n",
            "weighted avg       0.61      0.62      0.61      2250\n",
            "\n"
          ]
        }
      ]
    },
    {
      "cell_type": "markdown",
      "source": [
        "### Testing on audio-trained models"
      ],
      "metadata": {
        "id": "iQUj-0r8bjw6"
      }
    },
    {
      "cell_type": "code",
      "source": [
        "for model in audio_models:\n",
        "    y_pred = model.predict(X_test.iloc[:, 1:12])\n",
        "    audio_model_preds.append(y_pred)\n",
        "    print(f'{model}:\\n')\n",
        "    report = classification_report(y_test, y_pred, output_dict=True)\n",
        "    print(f'Accuracy\\t\\t: {report[\"accuracy\"]}')\n",
        "    print(f'Weighted Average F1\\t: {report[\"weighted avg\"][\"f1-score\"]}')\n",
        "    print()\n",
        "    print(classification_report(y_test, y_pred))"
      ],
      "metadata": {
        "colab": {
          "base_uri": "https://localhost:8080/"
        },
        "id": "sYD3EoN7bnyA",
        "outputId": "277dea04-7fac-4a17-f398-728ddc549a01"
      },
      "execution_count": 48,
      "outputs": [
        {
          "output_type": "stream",
          "name": "stdout",
          "text": [
            "OneVsRestClassifier(estimator=RandomForestClassifier()):\n",
            "\n",
            "Accuracy\t\t: 0.6591111111111111\n",
            "Weighted Average F1\t: 0.6515183286181156\n",
            "\n",
            "              precision    recall  f1-score   support\n",
            "\n",
            "         edm       0.77      0.83      0.80       457\n",
            "         pop       0.50      0.40      0.44       445\n",
            "         r&b       0.55      0.53      0.54       442\n",
            "         rap       0.71      0.78      0.74       449\n",
            "        rock       0.70      0.75      0.72       457\n",
            "\n",
            "    accuracy                           0.66      2250\n",
            "   macro avg       0.65      0.66      0.65      2250\n",
            "weighted avg       0.65      0.66      0.65      2250\n",
            "\n",
            "OneVsRestClassifier(estimator=ExtraTreesClassifier()):\n",
            "\n",
            "Accuracy\t\t: 0.6586666666666666\n",
            "Weighted Average F1\t: 0.653612052710869\n",
            "\n",
            "              precision    recall  f1-score   support\n",
            "\n",
            "         edm       0.77      0.79      0.78       457\n",
            "         pop       0.49      0.42      0.45       445\n",
            "         r&b       0.59      0.55      0.57       442\n",
            "         rap       0.71      0.78      0.74       449\n",
            "        rock       0.69      0.75      0.72       457\n",
            "\n",
            "    accuracy                           0.66      2250\n",
            "   macro avg       0.65      0.66      0.65      2250\n",
            "weighted avg       0.65      0.66      0.65      2250\n",
            "\n",
            "OneVsRestClassifier(estimator=HistGradientBoostingClassifier()):\n",
            "\n",
            "Accuracy\t\t: 0.644\n",
            "Weighted Average F1\t: 0.6380568523757207\n",
            "\n",
            "              precision    recall  f1-score   support\n",
            "\n",
            "         edm       0.74      0.77      0.75       457\n",
            "         pop       0.47      0.40      0.43       445\n",
            "         r&b       0.56      0.53      0.55       442\n",
            "         rap       0.70      0.76      0.73       449\n",
            "        rock       0.70      0.76      0.73       457\n",
            "\n",
            "    accuracy                           0.64      2250\n",
            "   macro avg       0.63      0.64      0.64      2250\n",
            "weighted avg       0.63      0.64      0.64      2250\n",
            "\n"
          ]
        }
      ]
    },
    {
      "cell_type": "markdown",
      "source": [
        "### Testing on lyric-trained ensemble"
      ],
      "metadata": {
        "id": "Q_QlxX3hbJzJ"
      }
    },
    {
      "cell_type": "code",
      "source": [
        "lyric_pred = get_ensemble_prediction(n_preds, lyric_model_preds, lyric_model_weights)\n",
        "print('Lyric-trained ensemble:\\n')\n",
        "report = classification_report(y_test, lyric_pred, output_dict=True)\n",
        "print(f'Accuracy\\t\\t: {report[\"accuracy\"]}')\n",
        "print(f'Weighted Average F1\\t: {report[\"weighted avg\"][\"f1-score\"]}')\n",
        "print()\n",
        "print(classification_report(y_test, lyric_pred))"
      ],
      "metadata": {
        "colab": {
          "base_uri": "https://localhost:8080/"
        },
        "id": "-JJbj3I2b0JM",
        "outputId": "956f772c-e60f-4e4f-9bdb-86450416f831"
      },
      "execution_count": 49,
      "outputs": [
        {
          "output_type": "stream",
          "name": "stdout",
          "text": [
            "Lyric-trained ensemble:\n",
            "\n",
            "Accuracy\t\t: 0.6302222222222222\n",
            "Weighted Average F1\t: 0.6186046723538823\n",
            "\n",
            "              precision    recall  f1-score   support\n",
            "\n",
            "         edm       0.67      0.75      0.71       457\n",
            "         pop       0.49      0.32      0.39       445\n",
            "         r&b       0.58      0.55      0.56       442\n",
            "         rap       0.76      0.86      0.81       449\n",
            "        rock       0.58      0.66      0.62       457\n",
            "\n",
            "    accuracy                           0.63      2250\n",
            "   macro avg       0.62      0.63      0.62      2250\n",
            "weighted avg       0.62      0.63      0.62      2250\n",
            "\n"
          ]
        }
      ]
    },
    {
      "cell_type": "markdown",
      "source": [
        "### Testing on audio-trained ensemble"
      ],
      "metadata": {
        "id": "MxASKDJ2cODx"
      }
    },
    {
      "cell_type": "code",
      "source": [
        "audio_pred = get_ensemble_prediction(n_preds, audio_model_preds, audio_model_weights)\n",
        "print('Audio-trained ensemble:\\n')\n",
        "report = classification_report(y_test, audio_pred, output_dict=True)\n",
        "print(f'Accuracy\\t\\t: {report[\"accuracy\"]}')\n",
        "print(f'Weighted Average F1\\t: {report[\"weighted avg\"][\"f1-score\"]}')\n",
        "print()\n",
        "print(classification_report(y_test, audio_pred))"
      ],
      "metadata": {
        "colab": {
          "base_uri": "https://localhost:8080/"
        },
        "id": "ujo7pzgScQby",
        "outputId": "989f2818-3174-4d96-c466-05bdd6dcd510"
      },
      "execution_count": 50,
      "outputs": [
        {
          "output_type": "stream",
          "name": "stdout",
          "text": [
            "Audio-trained ensemble:\n",
            "\n",
            "Accuracy\t\t: 0.6684444444444444\n",
            "Weighted Average F1\t: 0.6608880456021252\n",
            "\n",
            "              precision    recall  f1-score   support\n",
            "\n",
            "         edm       0.78      0.84      0.81       457\n",
            "         pop       0.51      0.40      0.45       445\n",
            "         r&b       0.58      0.55      0.56       442\n",
            "         rap       0.72      0.79      0.75       449\n",
            "        rock       0.70      0.76      0.73       457\n",
            "\n",
            "    accuracy                           0.67      2250\n",
            "   macro avg       0.66      0.67      0.66      2250\n",
            "weighted avg       0.66      0.67      0.66      2250\n",
            "\n"
          ]
        }
      ]
    },
    {
      "cell_type": "markdown",
      "source": [
        "### Testing on multi-modal ensemble model"
      ],
      "metadata": {
        "id": "19Zf7reecVwT"
      }
    },
    {
      "cell_type": "code",
      "source": [
        "ensemble_preds = lyric_model_preds + audio_model_preds\n",
        "ensemble_weights = lyric_model_weights + audio_model_weights\n",
        "ensemble_pred = get_ensemble_prediction(n_preds, ensemble_preds, ensemble_weights)\n",
        "print('Multi-model ensemble:\\n')\n",
        "report = classification_report(y_test, ensemble_pred, output_dict=True)\n",
        "print(f'Accuracy\\t\\t: {report[\"accuracy\"]}')\n",
        "print(f'Weighted Average F1\\t: {report[\"weighted avg\"][\"f1-score\"]}')\n",
        "print()\n",
        "print(classification_report(y_test, ensemble_pred))"
      ],
      "metadata": {
        "colab": {
          "base_uri": "https://localhost:8080/"
        },
        "id": "LYcvhnFccb8C",
        "outputId": "0dee06ef-d3f2-4a1c-82af-f7f92271354a"
      },
      "execution_count": 51,
      "outputs": [
        {
          "output_type": "stream",
          "name": "stdout",
          "text": [
            "Multi-model ensemble:\n",
            "\n",
            "Accuracy\t\t: 0.6906666666666667\n",
            "Weighted Average F1\t: 0.6824929413318221\n",
            "\n",
            "              precision    recall  f1-score   support\n",
            "\n",
            "         edm       0.79      0.83      0.81       457\n",
            "         pop       0.55      0.41      0.47       445\n",
            "         r&b       0.62      0.60      0.61       442\n",
            "         rap       0.74      0.82      0.78       449\n",
            "        rock       0.70      0.79      0.74       457\n",
            "\n",
            "    accuracy                           0.69      2250\n",
            "   macro avg       0.68      0.69      0.68      2250\n",
            "weighted avg       0.68      0.69      0.68      2250\n",
            "\n"
          ]
        }
      ]
    },
    {
      "cell_type": "markdown",
      "source": [
        "### Plotting confusion matrix"
      ],
      "metadata": {
        "id": "XUGUODgztjcO"
      }
    },
    {
      "cell_type": "code",
      "source": [
        "from sklearn.metrics import confusion_matrix, ConfusionMatrixDisplay, multilabel_confusion_matrix\n",
        "labels = lyric_models[0].classes_\n",
        "cm = confusion_matrix(y_test, ensemble_pred, labels=labels)\n",
        "disp = ConfusionMatrixDisplay(confusion_matrix=cm, display_labels=labels)\n",
        "disp.plot()\n",
        "plt.show()"
      ],
      "metadata": {
        "colab": {
          "base_uri": "https://localhost:8080/",
          "height": 449
        },
        "id": "vnuiAr5ddTbZ",
        "outputId": "bbe53fce-6510-4e98-b534-f35616282690"
      },
      "execution_count": 52,
      "outputs": [
        {
          "output_type": "display_data",
          "data": {
            "text/plain": [
              "<Figure size 640x480 with 2 Axes>"
            ],
            "image/png": "[encoded data removed]"
          },
          "metadata": {}
        }
      ]
    },
    {
      "cell_type": "markdown",
      "source": [
        "### Plotting ROC Curves (One vs Rest)"
      ],
      "metadata": {
        "id": "aTeHRn7CtYws"
      }
    },
    {
      "cell_type": "code",
      "source": [
        "label_binarizer = LabelBinarizer().fit(y_train)\n",
        "y_onehot_test = label_binarizer.transform(y_test)\n",
        "y_onehot_pred = label_binarizer.transform(ensemble_pred)"
      ],
      "metadata": {
        "id": "EKTPyddwq7GJ"
      },
      "execution_count": 53,
      "outputs": []
    },
    {
      "cell_type": "code",
      "source": [
        "for label in labels:\n",
        "    class_of_interest = label\n",
        "    class_id = np.flatnonzero(label_binarizer.classes_ == class_of_interest)[0]\n",
        "\n",
        "    RocCurveDisplay.from_predictions(\n",
        "        y_onehot_test[:, class_id],\n",
        "        y_onehot_pred[:, class_id],\n",
        "        name=f\"{class_of_interest} vs the rest\",\n",
        "    )\n",
        "    plt.plot([0, 1], [0, 1], \"k--\", label=\"chance level (AUC = 0.5)\")\n",
        "    plt.axis(\"square\")\n",
        "    plt.xlabel(\"False Positive Rate\")\n",
        "    plt.ylabel(\"True Positive Rate\")\n",
        "    plt.legend()\n",
        "    plt.show()\n",
        "    print()"
      ],
      "metadata": {
        "colab": {
          "base_uri": "https://localhost:8080/",
          "height": 1000
        },
        "id": "YZCP5084rE6Q",
        "outputId": "76968903-87c4-46b2-ef4b-f07abd240222"
      },
      "execution_count": 54,
      "outputs": [
        {
          "output_type": "display_data",
          "data": {
            "text/plain": [
              "<Figure size 640x480 with 1 Axes>"
            ],
            "image/png": "[encoded data removed]"
          },
          "metadata": {}
        },
        {
          "output_type": "stream",
          "name": "stdout",
          "text": [
            "\n"
          ]
        },
        {
          "output_type": "display_data",
          "data": {
            "text/plain": [
              "<Figure size 640x480 with 1 Axes>"
            ],
            "image/png": "[encoded data removed]"
          },
          "metadata": {}
        },
        {
          "output_type": "stream",
          "name": "stdout",
          "text": [
            "\n"
          ]
        },
        {
          "output_type": "display_data",
          "data": {
            "text/plain": [
              "<Figure size 640x480 with 1 Axes>"
            ],
            "image/png": "[encoded data removed]"
          },
          "metadata": {}
        },
        {
          "output_type": "stream",
          "name": "stdout",
          "text": [
            "\n"
          ]
        },
        {
          "output_type": "display_data",
          "data": {
            "text/plain": [
              "<Figure size 640x480 with 1 Axes>"
            ],
            "image/png": "[encoded data removed]"
          },
          "metadata": {}
        },
        {
          "output_type": "stream",
          "name": "stdout",
          "text": [
            "\n"
          ]
        },
        {
          "output_type": "display_data",
          "data": {
            "text/plain": [
              "<Figure size 640x480 with 1 Axes>"
            ],
            "image/png": "[encoded data removed]"
          },
          "metadata": {}
        },
        {
          "output_type": "stream",
          "name": "stdout",
          "text": [
            "\n"
          ]
        }
      ]
    }
  ]
}