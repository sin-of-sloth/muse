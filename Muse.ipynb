{
  "nbformat": 4,
  "nbformat_minor": 0,
  "metadata": {
    "colab": {
      "provenance": [],
      "authorship_tag": "ABX9TyO67AnXK8HBNtd/19UNN0tY"
    },
    "kernelspec": {
      "name": "python3",
      "display_name": "Python 3"
    },
    "language_info": {
      "name": "python"
    }
  },
  "cells": [
    {
      "cell_type": "markdown",
      "source": [
        "## Installing required libraries\n",
        "\n"
      ],
      "metadata": {
        "id": "6HBPFE0-rrrH"
      }
    },
    {
      "cell_type": "code",
      "execution_count": 27,
      "metadata": {
        "colab": {
          "base_uri": "https://localhost:8080/"
        },
        "id": "DIbxQEcai2F9",
        "outputId": "8f5f1eea-4922-4b54-fc33-b7d32e4b1112"
      },
      "outputs": [
        {
          "output_type": "stream",
          "name": "stdout",
          "text": [
            "Looking in indexes: https://pypi.org/simple, https://us-python.pkg.dev/colab-wheels/public/simple/\n",
            "Requirement already satisfied: kaggle in /usr/local/lib/python3.9/dist-packages (1.5.13)\n",
            "Requirement already satisfied: python-dateutil in /usr/local/lib/python3.9/dist-packages (from kaggle) (2.8.2)\n",
            "Requirement already satisfied: requests in /usr/local/lib/python3.9/dist-packages (from kaggle) (2.27.1)\n",
            "Requirement already satisfied: urllib3 in /usr/local/lib/python3.9/dist-packages (from kaggle) (1.26.15)\n",
            "Requirement already satisfied: six>=1.10 in /usr/local/lib/python3.9/dist-packages (from kaggle) (1.16.0)\n",
            "Requirement already satisfied: certifi in /usr/local/lib/python3.9/dist-packages (from kaggle) (2022.12.7)\n",
            "Requirement already satisfied: tqdm in /usr/local/lib/python3.9/dist-packages (from kaggle) (4.65.0)\n",
            "Requirement already satisfied: python-slugify in /usr/local/lib/python3.9/dist-packages (from kaggle) (8.0.1)\n",
            "Requirement already satisfied: text-unidecode>=1.3 in /usr/local/lib/python3.9/dist-packages (from python-slugify->kaggle) (1.3)\n",
            "Requirement already satisfied: idna<4,>=2.5 in /usr/local/lib/python3.9/dist-packages (from requests->kaggle) (3.4)\n",
            "Requirement already satisfied: charset-normalizer~=2.0.0 in /usr/local/lib/python3.9/dist-packages (from requests->kaggle) (2.0.12)\n",
            "Looking in indexes: https://pypi.org/simple, https://us-python.pkg.dev/colab-wheels/public/simple/\n",
            "Collecting imblearn\n",
            "  Downloading imblearn-0.0-py2.py3-none-any.whl (1.9 kB)\n",
            "Requirement already satisfied: imbalanced-learn in /usr/local/lib/python3.9/dist-packages (from imblearn) (0.10.1)\n",
            "Requirement already satisfied: numpy>=1.17.3 in /usr/local/lib/python3.9/dist-packages (from imbalanced-learn->imblearn) (1.22.4)\n",
            "Requirement already satisfied: threadpoolctl>=2.0.0 in /usr/local/lib/python3.9/dist-packages (from imbalanced-learn->imblearn) (3.1.0)\n",
            "Requirement already satisfied: scikit-learn>=1.0.2 in /usr/local/lib/python3.9/dist-packages (from imbalanced-learn->imblearn) (1.2.2)\n",
            "Requirement already satisfied: joblib>=1.1.1 in /usr/local/lib/python3.9/dist-packages (from imbalanced-learn->imblearn) (1.2.0)\n",
            "Requirement already satisfied: scipy>=1.3.2 in /usr/local/lib/python3.9/dist-packages (from imbalanced-learn->imblearn) (1.10.1)\n",
            "Installing collected packages: imblearn\n",
            "Successfully installed imblearn-0.0\n"
          ]
        }
      ],
      "source": [
        "!pip install kaggle\n",
        "!pip install imblearn"
      ]
    },
    {
      "cell_type": "markdown",
      "source": [
        "## Imports"
      ],
      "metadata": {
        "id": "GFUS6pimrv83"
      }
    },
    {
      "cell_type": "code",
      "source": [
        "import pandas as pd\n",
        "import numpy as np\n",
        "import matplotlib.pyplot as plt\n",
        "from imblearn.under_sampling import RandomUnderSampler\n",
        "from imblearn.over_sampling import RandomOverSampler"
      ],
      "metadata": {
        "id": "gJR71fkIrxXO"
      },
      "execution_count": 63,
      "outputs": []
    },
    {
      "cell_type": "markdown",
      "source": [
        "## Fetching data from Kaggle\n",
        "\n",
        "The dataset is a Kaggle dataset called [_Audio features and lyrics of Spotify songs_](https://www.kaggle.com/datasets/imuhammad/audio-features-and-lyrics-of-spotify-songs).\n",
        "\n",
        "This dataset contains various types of information of over more that 18000 Spotify songs including, artist, album, audio features (e.g. loudness), lyrics, the language of lyrics, genres and sub-genres.\n",
        "\n",
        "The original dataset was used in the [third week of the TidyTeusday project](https://github.com/rfordatascience/tidytuesday/tree/master/data/2020/2020-01-21) and only contained audio features and genres. The lyrics were added to the dataset using the [`genius`](https://cran.r-project.org/web/packages/genius/index.html) library in R, and the language of the lyrics were included using the [`langdetect`](https://pypi.org/project/langdetect/) library in python. However, only around half of the original songs are available in this dataset as lyrics could not be retreived for many songs."
      ],
      "metadata": {
        "id": "5xzb6GjyqbHa"
      }
    },
    {
      "cell_type": "code",
      "source": [
        "from google.colab import files \n",
        "files.upload()"
      ],
      "metadata": {
        "colab": {
          "base_uri": "https://localhost:8080/",
          "height": 91
        },
        "id": "tyaL-IHaorOZ",
        "outputId": "14ab1f19-3859-4df4-82a6-4e00f9aed01c"
      },
      "execution_count": 3,
      "outputs": [
        {
          "output_type": "display_data",
          "data": {
            "text/plain": [
              "<IPython.core.display.HTML object>"
            ],
            "text/html": [
              "\n",
              "     <input type=\"file\" id=\"files-b874772b-9e77-441e-a7bb-fd14f1829849\" name=\"files[]\" multiple disabled\n",
              "        style=\"border:none\" />\n",
              "     <output id=\"result-b874772b-9e77-441e-a7bb-fd14f1829849\">\n",
              "      Upload widget is only available when the cell has been executed in the\n",
              "      current browser session. Please rerun this cell to enable.\n",
              "      </output>\n",
              "      <script>// Copyright 2017 Google LLC\n",
              "//\n",
              "// Licensed under the Apache License, Version 2.0 (the \"License\");\n",
              "// you may not use this file except in compliance with the License.\n",
              "// You may obtain a copy of the License at\n",
              "//\n",
              "//      http://www.apache.org/licenses/LICENSE-2.0\n",
              "//\n",
              "// Unless required by applicable law or agreed to in writing, software\n",
              "// distributed under the License is distributed on an \"AS IS\" BASIS,\n",
              "// WITHOUT WARRANTIES OR CONDITIONS OF ANY KIND, either express or implied.\n",
              "// See the License for the specific language governing permissions and\n",
              "// limitations under the License.\n",
              "\n",
              "/**\n",
              " * @fileoverview Helpers for google.colab Python module.\n",
              " */\n",
              "(function(scope) {\n",
              "function span(text, styleAttributes = {}) {\n",
              "  const element = document.createElement('span');\n",
              "  element.textContent = text;\n",
              "  for (const key of Object.keys(styleAttributes)) {\n",
              "    element.style[key] = styleAttributes[key];\n",
              "  }\n",
              "  return element;\n",
              "}\n",
              "\n",
              "// Max number of bytes which will be uploaded at a time.\n",
              "const MAX_PAYLOAD_SIZE = 100 * 1024;\n",
              "\n",
              "function _uploadFiles(inputId, outputId) {\n",
              "  const steps = uploadFilesStep(inputId, outputId);\n",
              "  const outputElement = document.getElementById(outputId);\n",
              "  // Cache steps on the outputElement to make it available for the next call\n",
              "  // to uploadFilesContinue from Python.\n",
              "  outputElement.steps = steps;\n",
              "\n",
              "  return _uploadFilesContinue(outputId);\n",
              "}\n",
              "\n",
              "// This is roughly an async generator (not supported in the browser yet),\n",
              "// where there are multiple asynchronous steps and the Python side is going\n",
              "// to poll for completion of each step.\n",
              "// This uses a Promise to block the python side on completion of each step,\n",
              "// then passes the result of the previous step as the input to the next step.\n",
              "function _uploadFilesContinue(outputId) {\n",
              "  const outputElement = document.getElementById(outputId);\n",
              "  const steps = outputElement.steps;\n",
              "\n",
              "  const next = steps.next(outputElement.lastPromiseValue);\n",
              "  return Promise.resolve(next.value.promise).then((value) => {\n",
              "    // Cache the last promise value to make it available to the next\n",
              "    // step of the generator.\n",
              "    outputElement.lastPromiseValue = value;\n",
              "    return next.value.response;\n",
              "  });\n",
              "}\n",
              "\n",
              "/**\n",
              " * Generator function which is called between each async step of the upload\n",
              " * process.\n",
              " * @param {string} inputId Element ID of the input file picker element.\n",
              " * @param {string} outputId Element ID of the output display.\n",
              " * @return {!Iterable<!Object>} Iterable of next steps.\n",
              " */\n",
              "function* uploadFilesStep(inputId, outputId) {\n",
              "  const inputElement = document.getElementById(inputId);\n",
              "  inputElement.disabled = false;\n",
              "\n",
              "  const outputElement = document.getElementById(outputId);\n",
              "  outputElement.innerHTML = '';\n",
              "\n",
              "  const pickedPromise = new Promise((resolve) => {\n",
              "    inputElement.addEventListener('change', (e) => {\n",
              "      resolve(e.target.files);\n",
              "    });\n",
              "  });\n",
              "\n",
              "  const cancel = document.createElement('button');\n",
              "  inputElement.parentElement.appendChild(cancel);\n",
              "  cancel.textContent = 'Cancel upload';\n",
              "  const cancelPromise = new Promise((resolve) => {\n",
              "    cancel.onclick = () => {\n",
              "      resolve(null);\n",
              "    };\n",
              "  });\n",
              "\n",
              "  // Wait for the user to pick the files.\n",
              "  const files = yield {\n",
              "    promise: Promise.race([pickedPromise, cancelPromise]),\n",
              "    response: {\n",
              "      action: 'starting',\n",
              "    }\n",
              "  };\n",
              "\n",
              "  cancel.remove();\n",
              "\n",
              "  // Disable the input element since further picks are not allowed.\n",
              "  inputElement.disabled = true;\n",
              "\n",
              "  if (!files) {\n",
              "    return {\n",
              "      response: {\n",
              "        action: 'complete',\n",
              "      }\n",
              "    };\n",
              "  }\n",
              "\n",
              "  for (const file of files) {\n",
              "    const li = document.createElement('li');\n",
              "    li.append(span(file.name, {fontWeight: 'bold'}));\n",
              "    li.append(span(\n",
              "        `(${file.type || 'n/a'}) - ${file.size} bytes, ` +\n",
              "        `last modified: ${\n",
              "            file.lastModifiedDate ? file.lastModifiedDate.toLocaleDateString() :\n",
              "                                    'n/a'} - `));\n",
              "    const percent = span('0% done');\n",
              "    li.appendChild(percent);\n",
              "\n",
              "    outputElement.appendChild(li);\n",
              "\n",
              "    const fileDataPromise = new Promise((resolve) => {\n",
              "      const reader = new FileReader();\n",
              "      reader.onload = (e) => {\n",
              "        resolve(e.target.result);\n",
              "      };\n",
              "      reader.readAsArrayBuffer(file);\n",
              "    });\n",
              "    // Wait for the data to be ready.\n",
              "    let fileData = yield {\n",
              "      promise: fileDataPromise,\n",
              "      response: {\n",
              "        action: 'continue',\n",
              "      }\n",
              "    };\n",
              "\n",
              "    // Use a chunked sending to avoid message size limits. See b/62115660.\n",
              "    let position = 0;\n",
              "    do {\n",
              "      const length = Math.min(fileData.byteLength - position, MAX_PAYLOAD_SIZE);\n",
              "      const chunk = new Uint8Array(fileData, position, length);\n",
              "      position += length;\n",
              "\n",
              "      const base64 = btoa(String.fromCharCode.apply(null, chunk));\n",
              "      yield {\n",
              "        response: {\n",
              "          action: 'append',\n",
              "          file: file.name,\n",
              "          data: base64,\n",
              "        },\n",
              "      };\n",
              "\n",
              "      let percentDone = fileData.byteLength === 0 ?\n",
              "          100 :\n",
              "          Math.round((position / fileData.byteLength) * 100);\n",
              "      percent.textContent = `${percentDone}% done`;\n",
              "\n",
              "    } while (position < fileData.byteLength);\n",
              "  }\n",
              "\n",
              "  // All done.\n",
              "  yield {\n",
              "    response: {\n",
              "      action: 'complete',\n",
              "    }\n",
              "  };\n",
              "}\n",
              "\n",
              "scope.google = scope.google || {};\n",
              "scope.google.colab = scope.google.colab || {};\n",
              "scope.google.colab._files = {\n",
              "  _uploadFiles,\n",
              "  _uploadFilesContinue,\n",
              "};\n",
              "})(self);\n",
              "</script> "
            ]
          },
          "metadata": {}
        },
        {
          "output_type": "stream",
          "name": "stdout",
          "text": [
            "Saving kaggle.json to kaggle.json\n"
          ]
        },
        {
          "output_type": "execute_result",
          "data": {
            "text/plain": [
              "{'kaggle.json': b'{\"username\":\"slothonmeth\",\"key\":\"cd262fc091f9601cd35187e083b17459\"}'}"
            ]
          },
          "metadata": {},
          "execution_count": 3
        }
      ]
    },
    {
      "cell_type": "code",
      "source": [
        "! mkdir ~/.kaggle\n",
        "! cp kaggle.json ~/.kaggle/\n",
        "! chmod 600 ~/.kaggle/kaggle.json"
      ],
      "metadata": {
        "id": "t5Hu1L4Xov_z"
      },
      "execution_count": 4,
      "outputs": []
    },
    {
      "cell_type": "code",
      "source": [
        "! kaggle datasets download -d imuhammad/audio-features-and-lyrics-of-spotify-songs\n",
        "! unzip audio-features-and-lyrics-of-spotify-songs.zip -d data"
      ],
      "metadata": {
        "colab": {
          "base_uri": "https://localhost:8080/"
        },
        "id": "co4nTH2Rphsr",
        "outputId": "5471de35-8a28-42ba-c4ac-f99192bbbb3e"
      },
      "execution_count": 5,
      "outputs": [
        {
          "output_type": "stream",
          "name": "stdout",
          "text": [
            "Downloading audio-features-and-lyrics-of-spotify-songs.zip to /content\n",
            " 41% 5.00M/12.3M [00:00<00:00, 22.1MB/s]\n",
            "100% 12.3M/12.3M [00:00<00:00, 48.8MB/s]\n",
            "Archive:  audio-features-and-lyrics-of-spotify-songs.zip\n",
            "  inflating: data/spotify_songs.csv  \n"
          ]
        }
      ]
    },
    {
      "cell_type": "markdown",
      "source": [
        "## Getting to know the Dataset"
      ],
      "metadata": {
        "id": "9InoPBJtrlpy"
      }
    },
    {
      "cell_type": "code",
      "source": [
        "data = pd.read_csv('data/spotify_songs.csv')"
      ],
      "metadata": {
        "id": "XX-bHa45rkpr"
      },
      "execution_count": 52,
      "outputs": []
    },
    {
      "cell_type": "markdown",
      "source": [
        "### Dataset statistics\n",
        "\n",
        "The dataset has 18454 unique tracks from 6031 unique artists"
      ],
      "metadata": {
        "id": "HgTkYqrywtfM"
      }
    },
    {
      "cell_type": "code",
      "source": [
        "data.describe(include='all')[:2]"
      ],
      "metadata": {
        "colab": {
          "base_uri": "https://localhost:8080/",
          "height": 205
        },
        "id": "qI6-F0F7r79q",
        "outputId": "59569fda-2efd-4e52-c7c9-ea1cd7ff7463"
      },
      "execution_count": 34,
      "outputs": [
        {
          "output_type": "execute_result",
          "data": {
            "text/plain": [
              "       track_id track_name track_artist lyrics  track_popularity  \\\n",
              "count     18454      18454        18454  18194           18454.0   \n",
              "unique    18454      15198         6031  15977               NaN   \n",
              "\n",
              "       track_album_id track_album_name track_album_release_date playlist_name  \\\n",
              "count           18454            18454                    18454         18454   \n",
              "unique          14278            12671                     3817           442   \n",
              "\n",
              "       playlist_id  ... loudness     mode  speechiness  acousticness  \\\n",
              "count        18454  ...  18454.0  18454.0      18454.0       18454.0   \n",
              "unique         464  ...      NaN      NaN          NaN           NaN   \n",
              "\n",
              "        instrumentalness  liveness  valence    tempo  duration_ms  language  \n",
              "count            18454.0   18454.0  18454.0  18454.0      18454.0     18194  \n",
              "unique               NaN       NaN      NaN      NaN          NaN        34  \n",
              "\n",
              "[2 rows x 25 columns]"
            ],
            "text/html": [
              "\n",
              "  <div id=\"df-8c40e6f2-6542-41c7-b6f0-53c0c0aafbf2\">\n",
              "    <div class=\"colab-df-container\">\n",
              "      <div>\n",
              "<style scoped>\n",
              "    .dataframe tbody tr th:only-of-type {\n",
              "        vertical-align: middle;\n",
              "    }\n",
              "\n",
              "    .dataframe tbody tr th {\n",
              "        vertical-align: top;\n",
              "    }\n",
              "\n",
              "    .dataframe thead th {\n",
              "        text-align: right;\n",
              "    }\n",
              "</style>\n",
              "<table border=\"1\" class=\"dataframe\">\n",
              "  <thead>\n",
              "    <tr style=\"text-align: right;\">\n",
              "      <th></th>\n",
              "      <th>track_id</th>\n",
              "      <th>track_name</th>\n",
              "      <th>track_artist</th>\n",
              "      <th>lyrics</th>\n",
              "      <th>track_popularity</th>\n",
              "      <th>track_album_id</th>\n",
              "      <th>track_album_name</th>\n",
              "      <th>track_album_release_date</th>\n",
              "      <th>playlist_name</th>\n",
              "      <th>playlist_id</th>\n",
              "      <th>...</th>\n",
              "      <th>loudness</th>\n",
              "      <th>mode</th>\n",
              "      <th>speechiness</th>\n",
              "      <th>acousticness</th>\n",
              "      <th>instrumentalness</th>\n",
              "      <th>liveness</th>\n",
              "      <th>valence</th>\n",
              "      <th>tempo</th>\n",
              "      <th>duration_ms</th>\n",
              "      <th>language</th>\n",
              "    </tr>\n",
              "  </thead>\n",
              "  <tbody>\n",
              "    <tr>\n",
              "      <th>count</th>\n",
              "      <td>18454</td>\n",
              "      <td>18454</td>\n",
              "      <td>18454</td>\n",
              "      <td>18194</td>\n",
              "      <td>18454.0</td>\n",
              "      <td>18454</td>\n",
              "      <td>18454</td>\n",
              "      <td>18454</td>\n",
              "      <td>18454</td>\n",
              "      <td>18454</td>\n",
              "      <td>...</td>\n",
              "      <td>18454.0</td>\n",
              "      <td>18454.0</td>\n",
              "      <td>18454.0</td>\n",
              "      <td>18454.0</td>\n",
              "      <td>18454.0</td>\n",
              "      <td>18454.0</td>\n",
              "      <td>18454.0</td>\n",
              "      <td>18454.0</td>\n",
              "      <td>18454.0</td>\n",
              "      <td>18194</td>\n",
              "    </tr>\n",
              "    <tr>\n",
              "      <th>unique</th>\n",
              "      <td>18454</td>\n",
              "      <td>15198</td>\n",
              "      <td>6031</td>\n",
              "      <td>15977</td>\n",
              "      <td>NaN</td>\n",
              "      <td>14278</td>\n",
              "      <td>12671</td>\n",
              "      <td>3817</td>\n",
              "      <td>442</td>\n",
              "      <td>464</td>\n",
              "      <td>...</td>\n",
              "      <td>NaN</td>\n",
              "      <td>NaN</td>\n",
              "      <td>NaN</td>\n",
              "      <td>NaN</td>\n",
              "      <td>NaN</td>\n",
              "      <td>NaN</td>\n",
              "      <td>NaN</td>\n",
              "      <td>NaN</td>\n",
              "      <td>NaN</td>\n",
              "      <td>34</td>\n",
              "    </tr>\n",
              "  </tbody>\n",
              "</table>\n",
              "<p>2 rows × 25 columns</p>\n",
              "</div>\n",
              "      <button class=\"colab-df-convert\" onclick=\"convertToInteractive('df-8c40e6f2-6542-41c7-b6f0-53c0c0aafbf2')\"\n",
              "              title=\"Convert this dataframe to an interactive table.\"\n",
              "              style=\"display:none;\">\n",
              "        \n",
              "  <svg xmlns=\"http://www.w3.org/2000/svg\" height=\"24px\"viewBox=\"0 0 24 24\"\n",
              "       width=\"24px\">\n",
              "    <path d=\"M0 0h24v24H0V0z\" fill=\"none\"/>\n",
              "    <path d=\"M18.56 5.44l.94 2.06.94-2.06 2.06-.94-2.06-.94-.94-2.06-.94 2.06-2.06.94zm-11 1L8.5 8.5l.94-2.06 2.06-.94-2.06-.94L8.5 2.5l-.94 2.06-2.06.94zm10 10l.94 2.06.94-2.06 2.06-.94-2.06-.94-.94-2.06-.94 2.06-2.06.94z\"/><path d=\"M17.41 7.96l-1.37-1.37c-.4-.4-.92-.59-1.43-.59-.52 0-1.04.2-1.43.59L10.3 9.45l-7.72 7.72c-.78.78-.78 2.05 0 2.83L4 21.41c.39.39.9.59 1.41.59.51 0 1.02-.2 1.41-.59l7.78-7.78 2.81-2.81c.8-.78.8-2.07 0-2.86zM5.41 20L4 18.59l7.72-7.72 1.47 1.35L5.41 20z\"/>\n",
              "  </svg>\n",
              "      </button>\n",
              "      \n",
              "  <style>\n",
              "    .colab-df-container {\n",
              "      display:flex;\n",
              "      flex-wrap:wrap;\n",
              "      gap: 12px;\n",
              "    }\n",
              "\n",
              "    .colab-df-convert {\n",
              "      background-color: #E8F0FE;\n",
              "      border: none;\n",
              "      border-radius: 50%;\n",
              "      cursor: pointer;\n",
              "      display: none;\n",
              "      fill: #1967D2;\n",
              "      height: 32px;\n",
              "      padding: 0 0 0 0;\n",
              "      width: 32px;\n",
              "    }\n",
              "\n",
              "    .colab-df-convert:hover {\n",
              "      background-color: #E2EBFA;\n",
              "      box-shadow: 0px 1px 2px rgba(60, 64, 67, 0.3), 0px 1px 3px 1px rgba(60, 64, 67, 0.15);\n",
              "      fill: #174EA6;\n",
              "    }\n",
              "\n",
              "    [theme=dark] .colab-df-convert {\n",
              "      background-color: #3B4455;\n",
              "      fill: #D2E3FC;\n",
              "    }\n",
              "\n",
              "    [theme=dark] .colab-df-convert:hover {\n",
              "      background-color: #434B5C;\n",
              "      box-shadow: 0px 1px 3px 1px rgba(0, 0, 0, 0.15);\n",
              "      filter: drop-shadow(0px 1px 2px rgba(0, 0, 0, 0.3));\n",
              "      fill: #FFFFFF;\n",
              "    }\n",
              "  </style>\n",
              "\n",
              "      <script>\n",
              "        const buttonEl =\n",
              "          document.querySelector('#df-8c40e6f2-6542-41c7-b6f0-53c0c0aafbf2 button.colab-df-convert');\n",
              "        buttonEl.style.display =\n",
              "          google.colab.kernel.accessAllowed ? 'block' : 'none';\n",
              "\n",
              "        async function convertToInteractive(key) {\n",
              "          const element = document.querySelector('#df-8c40e6f2-6542-41c7-b6f0-53c0c0aafbf2');\n",
              "          const dataTable =\n",
              "            await google.colab.kernel.invokeFunction('convertToInteractive',\n",
              "                                                     [key], {});\n",
              "          if (!dataTable) return;\n",
              "\n",
              "          const docLinkHtml = 'Like what you see? Visit the ' +\n",
              "            '<a target=\"_blank\" href=https://colab.research.google.com/notebooks/data_table.ipynb>data table notebook</a>'\n",
              "            + ' to learn more about interactive tables.';\n",
              "          element.innerHTML = '';\n",
              "          dataTable['output_type'] = 'display_data';\n",
              "          await google.colab.output.renderOutput(dataTable, element);\n",
              "          const docLink = document.createElement('div');\n",
              "          docLink.innerHTML = docLinkHtml;\n",
              "          element.appendChild(docLink);\n",
              "        }\n",
              "      </script>\n",
              "    </div>\n",
              "  </div>\n",
              "  "
            ]
          },
          "metadata": {},
          "execution_count": 34
        }
      ]
    },
    {
      "cell_type": "code",
      "source": [
        "data.head()"
      ],
      "metadata": {
        "colab": {
          "base_uri": "https://localhost:8080/",
          "height": 682
        },
        "id": "EeYzNnTjRXeq",
        "outputId": "ffba747d-7041-4941-d1d5-7e2d8475fe8c"
      },
      "execution_count": 35,
      "outputs": [
        {
          "output_type": "execute_result",
          "data": {
            "text/plain": [
              "                 track_id                                         track_name  \\\n",
              "0  0017A6SJgTbfQVU2EtsPNo                                           Pangarap   \n",
              "1  004s3t0ONYlzxII9PLgU6z                                       I Feel Alive   \n",
              "2  00chLpzhgVjxs1zKC9UScL                                             Poison   \n",
              "3  00cqd6ZsSkLZqGMlQCR0Zo  Baby It's Cold Outside (feat. Christina Aguilera)   \n",
              "4  00emjlCv9azBN0fzuuyLqy                                         Dumb Litty   \n",
              "\n",
              "      track_artist                                             lyrics  \\\n",
              "0  Barbie's Cradle  Minsan pa Nang ako'y napalingon Hindi ko alam ...   \n",
              "1    Steady Rollin  The trees, are singing in the wind The sky blu...   \n",
              "2   Bell Biv DeVoe  NA Yeah, Spyderman and Freeze in full effect U...   \n",
              "3      CeeLo Green  I really can't stay Baby it's cold outside I'v...   \n",
              "4             KARD  Get up out of my business You don't keep me fr...   \n",
              "\n",
              "   track_popularity          track_album_id  \\\n",
              "0                41  1srJQ0njEQgd8w4XSqI4JQ   \n",
              "1                28  3z04Lb9Dsilqw68SHt6jLB   \n",
              "2                 0  6oZ6brjB8x3GoeSYdwJdPc   \n",
              "3                41  3ssspRe42CXkhPxdc12xcp   \n",
              "4                65  7h5X3xhh3peIK9Y0qI5hbK   \n",
              "\n",
              "                       track_album_name track_album_release_date  \\\n",
              "0                                  Trip               2001-01-01   \n",
              "1                           Love & Loss               2017-11-21   \n",
              "2                                  Gold               2005-01-01   \n",
              "3                  CeeLo's Magic Moment               2012-10-29   \n",
              "4  KARD 2nd Digital Single ‘Dumb Litty’               2019-09-22   \n",
              "\n",
              "                                       playlist_name             playlist_id  \\\n",
              "0                                 Pinoy Classic Rock  37i9dQZF1DWYDQ8wBxd7xt   \n",
              "1                                  Hard Rock Workout  3YouF0u7waJnolytf9JCXf   \n",
              "2  Back in the day - R&B, New Jack Swing, Swingbe...  3a9y4eeCJRmG9p4YKfqYIx   \n",
              "3                                     Christmas Soul  6FZYc2BvF7tColxO8PBShV   \n",
              "4                                  K-Party Dance Mix  37i9dQZF1DX4RDXswvP6Mj   \n",
              "\n",
              "   ... loudness mode  speechiness  acousticness  instrumentalness  liveness  \\\n",
              "0  ...  -10.068    1       0.0236       0.27900           0.01170    0.0887   \n",
              "1  ...   -4.739    1       0.0442       0.01170           0.00994    0.3470   \n",
              "2  ...   -7.504    0       0.2160       0.00432           0.00723    0.4890   \n",
              "3  ...   -5.819    0       0.0341       0.68900           0.00000    0.0664   \n",
              "4  ...   -1.993    1       0.0409       0.03700           0.00000    0.1380   \n",
              "\n",
              "   valence    tempo  duration_ms  language  \n",
              "0    0.566   97.091       235440        tl  \n",
              "1    0.404  135.225       373512        en  \n",
              "2    0.650  111.904       262467        en  \n",
              "3    0.405  118.593       243067        en  \n",
              "4    0.240  130.018       193160        en  \n",
              "\n",
              "[5 rows x 25 columns]"
            ],
            "text/html": [
              "\n",
              "  <div id=\"df-e9435e2f-6fee-4022-bfcd-0fa0e1a3f5b2\">\n",
              "    <div class=\"colab-df-container\">\n",
              "      <div>\n",
              "<style scoped>\n",
              "    .dataframe tbody tr th:only-of-type {\n",
              "        vertical-align: middle;\n",
              "    }\n",
              "\n",
              "    .dataframe tbody tr th {\n",
              "        vertical-align: top;\n",
              "    }\n",
              "\n",
              "    .dataframe thead th {\n",
              "        text-align: right;\n",
              "    }\n",
              "</style>\n",
              "<table border=\"1\" class=\"dataframe\">\n",
              "  <thead>\n",
              "    <tr style=\"text-align: right;\">\n",
              "      <th></th>\n",
              "      <th>track_id</th>\n",
              "      <th>track_name</th>\n",
              "      <th>track_artist</th>\n",
              "      <th>lyrics</th>\n",
              "      <th>track_popularity</th>\n",
              "      <th>track_album_id</th>\n",
              "      <th>track_album_name</th>\n",
              "      <th>track_album_release_date</th>\n",
              "      <th>playlist_name</th>\n",
              "      <th>playlist_id</th>\n",
              "      <th>...</th>\n",
              "      <th>loudness</th>\n",
              "      <th>mode</th>\n",
              "      <th>speechiness</th>\n",
              "      <th>acousticness</th>\n",
              "      <th>instrumentalness</th>\n",
              "      <th>liveness</th>\n",
              "      <th>valence</th>\n",
              "      <th>tempo</th>\n",
              "      <th>duration_ms</th>\n",
              "      <th>language</th>\n",
              "    </tr>\n",
              "  </thead>\n",
              "  <tbody>\n",
              "    <tr>\n",
              "      <th>0</th>\n",
              "      <td>0017A6SJgTbfQVU2EtsPNo</td>\n",
              "      <td>Pangarap</td>\n",
              "      <td>Barbie's Cradle</td>\n",
              "      <td>Minsan pa Nang ako'y napalingon Hindi ko alam ...</td>\n",
              "      <td>41</td>\n",
              "      <td>1srJQ0njEQgd8w4XSqI4JQ</td>\n",
              "      <td>Trip</td>\n",
              "      <td>2001-01-01</td>\n",
              "      <td>Pinoy Classic Rock</td>\n",
              "      <td>37i9dQZF1DWYDQ8wBxd7xt</td>\n",
              "      <td>...</td>\n",
              "      <td>-10.068</td>\n",
              "      <td>1</td>\n",
              "      <td>0.0236</td>\n",
              "      <td>0.27900</td>\n",
              "      <td>0.01170</td>\n",
              "      <td>0.0887</td>\n",
              "      <td>0.566</td>\n",
              "      <td>97.091</td>\n",
              "      <td>235440</td>\n",
              "      <td>tl</td>\n",
              "    </tr>\n",
              "    <tr>\n",
              "      <th>1</th>\n",
              "      <td>004s3t0ONYlzxII9PLgU6z</td>\n",
              "      <td>I Feel Alive</td>\n",
              "      <td>Steady Rollin</td>\n",
              "      <td>The trees, are singing in the wind The sky blu...</td>\n",
              "      <td>28</td>\n",
              "      <td>3z04Lb9Dsilqw68SHt6jLB</td>\n",
              "      <td>Love &amp; Loss</td>\n",
              "      <td>2017-11-21</td>\n",
              "      <td>Hard Rock Workout</td>\n",
              "      <td>3YouF0u7waJnolytf9JCXf</td>\n",
              "      <td>...</td>\n",
              "      <td>-4.739</td>\n",
              "      <td>1</td>\n",
              "      <td>0.0442</td>\n",
              "      <td>0.01170</td>\n",
              "      <td>0.00994</td>\n",
              "      <td>0.3470</td>\n",
              "      <td>0.404</td>\n",
              "      <td>135.225</td>\n",
              "      <td>373512</td>\n",
              "      <td>en</td>\n",
              "    </tr>\n",
              "    <tr>\n",
              "      <th>2</th>\n",
              "      <td>00chLpzhgVjxs1zKC9UScL</td>\n",
              "      <td>Poison</td>\n",
              "      <td>Bell Biv DeVoe</td>\n",
              "      <td>NA Yeah, Spyderman and Freeze in full effect U...</td>\n",
              "      <td>0</td>\n",
              "      <td>6oZ6brjB8x3GoeSYdwJdPc</td>\n",
              "      <td>Gold</td>\n",
              "      <td>2005-01-01</td>\n",
              "      <td>Back in the day - R&amp;B, New Jack Swing, Swingbe...</td>\n",
              "      <td>3a9y4eeCJRmG9p4YKfqYIx</td>\n",
              "      <td>...</td>\n",
              "      <td>-7.504</td>\n",
              "      <td>0</td>\n",
              "      <td>0.2160</td>\n",
              "      <td>0.00432</td>\n",
              "      <td>0.00723</td>\n",
              "      <td>0.4890</td>\n",
              "      <td>0.650</td>\n",
              "      <td>111.904</td>\n",
              "      <td>262467</td>\n",
              "      <td>en</td>\n",
              "    </tr>\n",
              "    <tr>\n",
              "      <th>3</th>\n",
              "      <td>00cqd6ZsSkLZqGMlQCR0Zo</td>\n",
              "      <td>Baby It's Cold Outside (feat. Christina Aguilera)</td>\n",
              "      <td>CeeLo Green</td>\n",
              "      <td>I really can't stay Baby it's cold outside I'v...</td>\n",
              "      <td>41</td>\n",
              "      <td>3ssspRe42CXkhPxdc12xcp</td>\n",
              "      <td>CeeLo's Magic Moment</td>\n",
              "      <td>2012-10-29</td>\n",
              "      <td>Christmas Soul</td>\n",
              "      <td>6FZYc2BvF7tColxO8PBShV</td>\n",
              "      <td>...</td>\n",
              "      <td>-5.819</td>\n",
              "      <td>0</td>\n",
              "      <td>0.0341</td>\n",
              "      <td>0.68900</td>\n",
              "      <td>0.00000</td>\n",
              "      <td>0.0664</td>\n",
              "      <td>0.405</td>\n",
              "      <td>118.593</td>\n",
              "      <td>243067</td>\n",
              "      <td>en</td>\n",
              "    </tr>\n",
              "    <tr>\n",
              "      <th>4</th>\n",
              "      <td>00emjlCv9azBN0fzuuyLqy</td>\n",
              "      <td>Dumb Litty</td>\n",
              "      <td>KARD</td>\n",
              "      <td>Get up out of my business You don't keep me fr...</td>\n",
              "      <td>65</td>\n",
              "      <td>7h5X3xhh3peIK9Y0qI5hbK</td>\n",
              "      <td>KARD 2nd Digital Single ‘Dumb Litty’</td>\n",
              "      <td>2019-09-22</td>\n",
              "      <td>K-Party Dance Mix</td>\n",
              "      <td>37i9dQZF1DX4RDXswvP6Mj</td>\n",
              "      <td>...</td>\n",
              "      <td>-1.993</td>\n",
              "      <td>1</td>\n",
              "      <td>0.0409</td>\n",
              "      <td>0.03700</td>\n",
              "      <td>0.00000</td>\n",
              "      <td>0.1380</td>\n",
              "      <td>0.240</td>\n",
              "      <td>130.018</td>\n",
              "      <td>193160</td>\n",
              "      <td>en</td>\n",
              "    </tr>\n",
              "  </tbody>\n",
              "</table>\n",
              "<p>5 rows × 25 columns</p>\n",
              "</div>\n",
              "      <button class=\"colab-df-convert\" onclick=\"convertToInteractive('df-e9435e2f-6fee-4022-bfcd-0fa0e1a3f5b2')\"\n",
              "              title=\"Convert this dataframe to an interactive table.\"\n",
              "              style=\"display:none;\">\n",
              "        \n",
              "  <svg xmlns=\"http://www.w3.org/2000/svg\" height=\"24px\"viewBox=\"0 0 24 24\"\n",
              "       width=\"24px\">\n",
              "    <path d=\"M0 0h24v24H0V0z\" fill=\"none\"/>\n",
              "    <path d=\"M18.56 5.44l.94 2.06.94-2.06 2.06-.94-2.06-.94-.94-2.06-.94 2.06-2.06.94zm-11 1L8.5 8.5l.94-2.06 2.06-.94-2.06-.94L8.5 2.5l-.94 2.06-2.06.94zm10 10l.94 2.06.94-2.06 2.06-.94-2.06-.94-.94-2.06-.94 2.06-2.06.94z\"/><path d=\"M17.41 7.96l-1.37-1.37c-.4-.4-.92-.59-1.43-.59-.52 0-1.04.2-1.43.59L10.3 9.45l-7.72 7.72c-.78.78-.78 2.05 0 2.83L4 21.41c.39.39.9.59 1.41.59.51 0 1.02-.2 1.41-.59l7.78-7.78 2.81-2.81c.8-.78.8-2.07 0-2.86zM5.41 20L4 18.59l7.72-7.72 1.47 1.35L5.41 20z\"/>\n",
              "  </svg>\n",
              "      </button>\n",
              "      \n",
              "  <style>\n",
              "    .colab-df-container {\n",
              "      display:flex;\n",
              "      flex-wrap:wrap;\n",
              "      gap: 12px;\n",
              "    }\n",
              "\n",
              "    .colab-df-convert {\n",
              "      background-color: #E8F0FE;\n",
              "      border: none;\n",
              "      border-radius: 50%;\n",
              "      cursor: pointer;\n",
              "      display: none;\n",
              "      fill: #1967D2;\n",
              "      height: 32px;\n",
              "      padding: 0 0 0 0;\n",
              "      width: 32px;\n",
              "    }\n",
              "\n",
              "    .colab-df-convert:hover {\n",
              "      background-color: #E2EBFA;\n",
              "      box-shadow: 0px 1px 2px rgba(60, 64, 67, 0.3), 0px 1px 3px 1px rgba(60, 64, 67, 0.15);\n",
              "      fill: #174EA6;\n",
              "    }\n",
              "\n",
              "    [theme=dark] .colab-df-convert {\n",
              "      background-color: #3B4455;\n",
              "      fill: #D2E3FC;\n",
              "    }\n",
              "\n",
              "    [theme=dark] .colab-df-convert:hover {\n",
              "      background-color: #434B5C;\n",
              "      box-shadow: 0px 1px 3px 1px rgba(0, 0, 0, 0.15);\n",
              "      filter: drop-shadow(0px 1px 2px rgba(0, 0, 0, 0.3));\n",
              "      fill: #FFFFFF;\n",
              "    }\n",
              "  </style>\n",
              "\n",
              "      <script>\n",
              "        const buttonEl =\n",
              "          document.querySelector('#df-e9435e2f-6fee-4022-bfcd-0fa0e1a3f5b2 button.colab-df-convert');\n",
              "        buttonEl.style.display =\n",
              "          google.colab.kernel.accessAllowed ? 'block' : 'none';\n",
              "\n",
              "        async function convertToInteractive(key) {\n",
              "          const element = document.querySelector('#df-e9435e2f-6fee-4022-bfcd-0fa0e1a3f5b2');\n",
              "          const dataTable =\n",
              "            await google.colab.kernel.invokeFunction('convertToInteractive',\n",
              "                                                     [key], {});\n",
              "          if (!dataTable) return;\n",
              "\n",
              "          const docLinkHtml = 'Like what you see? Visit the ' +\n",
              "            '<a target=\"_blank\" href=https://colab.research.google.com/notebooks/data_table.ipynb>data table notebook</a>'\n",
              "            + ' to learn more about interactive tables.';\n",
              "          element.innerHTML = '';\n",
              "          dataTable['output_type'] = 'display_data';\n",
              "          await google.colab.output.renderOutput(dataTable, element);\n",
              "          const docLink = document.createElement('div');\n",
              "          docLink.innerHTML = docLinkHtml;\n",
              "          element.appendChild(docLink);\n",
              "        }\n",
              "      </script>\n",
              "    </div>\n",
              "  </div>\n",
              "  "
            ]
          },
          "metadata": {},
          "execution_count": 35
        }
      ]
    },
    {
      "cell_type": "code",
      "source": [
        "data.dtypes"
      ],
      "metadata": {
        "colab": {
          "base_uri": "https://localhost:8080/"
        },
        "id": "4wSjdOOSxECj",
        "outputId": "ccfa76aa-221e-4b79-ee1d-3f5f96046266"
      },
      "execution_count": 36,
      "outputs": [
        {
          "output_type": "execute_result",
          "data": {
            "text/plain": [
              "track_id                     object\n",
              "track_name                   object\n",
              "track_artist                 object\n",
              "lyrics                       object\n",
              "track_popularity              int64\n",
              "track_album_id               object\n",
              "track_album_name             object\n",
              "track_album_release_date     object\n",
              "playlist_name                object\n",
              "playlist_id                  object\n",
              "playlist_genre               object\n",
              "playlist_subgenre            object\n",
              "danceability                float64\n",
              "energy                      float64\n",
              "key                           int64\n",
              "loudness                    float64\n",
              "mode                          int64\n",
              "speechiness                 float64\n",
              "acousticness                float64\n",
              "instrumentalness            float64\n",
              "liveness                    float64\n",
              "valence                     float64\n",
              "tempo                       float64\n",
              "duration_ms                   int64\n",
              "language                     object\n",
              "dtype: object"
            ]
          },
          "metadata": {},
          "execution_count": 36
        }
      ]
    },
    {
      "cell_type": "markdown",
      "source": [
        "### Track languages\n",
        "\n",
        "The dataset has predominantly english songs - around ~84% of total songs\n",
        "\n"
      ],
      "metadata": {
        "id": "2xNOI9yQuvag"
      }
    },
    {
      "cell_type": "code",
      "source": [
        "data['language'].value_counts()"
      ],
      "metadata": {
        "colab": {
          "base_uri": "https://localhost:8080/"
        },
        "id": "fOnzWfsuvu5X",
        "outputId": "8597a3c9-5848-45b8-dd4f-8ee351603ca4"
      },
      "execution_count": 37,
      "outputs": [
        {
          "output_type": "execute_result",
          "data": {
            "text/plain": [
              "en    15405\n",
              "es     1705\n",
              "de      241\n",
              "pt      176\n",
              "it      133\n",
              "pl       76\n",
              "nl       72\n",
              "fr       65\n",
              "tl       63\n",
              "da       40\n",
              "id       34\n",
              "ko       29\n",
              "vi       24\n",
              "so       16\n",
              "sw       16\n",
              "ro       16\n",
              "cy       12\n",
              "no       10\n",
              "hi       10\n",
              "ja        8\n",
              "et        7\n",
              "tr        5\n",
              "sv        5\n",
              "af        5\n",
              "ru        4\n",
              "sq        3\n",
              "hr        3\n",
              "ar        2\n",
              "cs        2\n",
              "ca        2\n",
              "el        2\n",
              "hu        1\n",
              "fi        1\n",
              "sk        1\n",
              "Name: language, dtype: int64"
            ]
          },
          "metadata": {},
          "execution_count": 37
        }
      ]
    },
    {
      "cell_type": "markdown",
      "source": [
        "### Track genres\n",
        "\n",
        "In the dataset, the genre of a music track is determined to be the genre of the playlist it is a part of."
      ],
      "metadata": {
        "id": "5USLw2jcv8En"
      }
    },
    {
      "cell_type": "code",
      "source": [
        "count = data['playlist_genre'].value_counts()\n",
        "count.plot.bar()\n",
        "plt.ylabel('Number of samples')\n",
        "plt.xlabel('Music genres')\n",
        "plt.show()"
      ],
      "metadata": {
        "colab": {
          "base_uri": "https://localhost:8080/",
          "height": 466
        },
        "id": "bASn_HNkwrmX",
        "outputId": "87263426-69f1-43ee-ba1e-c519ad044260"
      },
      "execution_count": 53,
      "outputs": [
        {
          "output_type": "display_data",
          "data": {
            "text/plain": [
              "<Figure size 640x480 with 1 Axes>"
            ],
            "image/png": "[encoded data removed]"
          },
          "metadata": {}
        }
      ]
    },
    {
      "cell_type": "markdown",
      "source": [
        "## Preprocessing"
      ],
      "metadata": {
        "id": "LxdS7pYQvRFS"
      }
    },
    {
      "cell_type": "markdown",
      "source": [
        "### Drop non-english songs\n",
        "There are no good word embeddings available for non-english songs; in addition, only ~16% of total data samples are non-english"
      ],
      "metadata": {
        "id": "Ci11zGgFvhsP"
      }
    },
    {
      "cell_type": "code",
      "source": [
        "data = data.loc[data['language'] == 'en']\n",
        "\n",
        "count = data['playlist_genre'].value_counts()\n",
        "count.plot.bar()\n",
        "plt.ylabel('Number of samples')\n",
        "plt.xlabel('Music genres')\n",
        "plt.show()"
      ],
      "metadata": {
        "colab": {
          "base_uri": "https://localhost:8080/",
          "height": 466
        },
        "id": "YQyan3M1u5wm",
        "outputId": "90d0647d-2c35-4ca4-9c65-c48490915d16"
      },
      "execution_count": 54,
      "outputs": [
        {
          "output_type": "display_data",
          "data": {
            "text/plain": [
              "<Figure size 640x480 with 1 Axes>"
            ],
            "image/png": "[encoded data removed]"
          },
          "metadata": {}
        }
      ]
    },
    {
      "cell_type": "markdown",
      "source": [
        "### Remove `latin` songs\n",
        "We do not have enough samples for `latin`"
      ],
      "metadata": {
        "id": "u1hjsLflPjmR"
      }
    },
    {
      "cell_type": "code",
      "source": [
        "data = data.loc[data['playlist_genre'] != 'latin']\n",
        "data['playlist_genre'].value_counts()"
      ],
      "metadata": {
        "colab": {
          "base_uri": "https://localhost:8080/"
        },
        "id": "k8CHukPvPtoq",
        "outputId": "444cd2c9-0768-4cf7-ac7e-cc861f63e775"
      },
      "execution_count": 55,
      "outputs": [
        {
          "output_type": "execute_result",
          "data": {
            "text/plain": [
              "pop     3739\n",
              "rock    3388\n",
              "r&b     3161\n",
              "rap     2502\n",
              "edm     1758\n",
              "Name: playlist_genre, dtype: int64"
            ]
          },
          "metadata": {},
          "execution_count": 55
        }
      ]
    },
    {
      "cell_type": "markdown",
      "source": [
        "### Drop unusable features\n",
        "\n",
        "Features like `track_id`, `track_artist`, `track_album_id`, `playlist_id` are not realistically expected to provide any information regarding a music track's genre"
      ],
      "metadata": {
        "id": "QMbcceX3RHAy"
      }
    },
    {
      "cell_type": "code",
      "source": [
        "data.drop(\n",
        "    ['track_id', 'track_name', 'track_artist', 'track_album_id', 'track_album_name', 'track_album_release_date', 'playlist_name', 'playlist_id', 'playlist_subgenre', 'language'],\n",
        "    axis=1,\n",
        "    inplace=True\n",
        ")\n",
        "data.dtypes"
      ],
      "metadata": {
        "colab": {
          "base_uri": "https://localhost:8080/"
        },
        "id": "w1_UVgcYRshH",
        "outputId": "49f20712-da40-4c9a-c371-2e87657f28d4"
      },
      "execution_count": 56,
      "outputs": [
        {
          "output_type": "execute_result",
          "data": {
            "text/plain": [
              "lyrics               object\n",
              "track_popularity      int64\n",
              "playlist_genre       object\n",
              "danceability        float64\n",
              "energy              float64\n",
              "key                   int64\n",
              "loudness            float64\n",
              "mode                  int64\n",
              "speechiness         float64\n",
              "acousticness        float64\n",
              "instrumentalness    float64\n",
              "liveness            float64\n",
              "valence             float64\n",
              "tempo               float64\n",
              "duration_ms           int64\n",
              "dtype: object"
            ]
          },
          "metadata": {},
          "execution_count": 56
        }
      ]
    },
    {
      "cell_type": "markdown",
      "source": [
        "Now we can split our dataset into `X` (input) and `y` (target labels) - here, our target labels are the values in the column `playlist_genre`"
      ],
      "metadata": {
        "id": "2yVmEujxU2zI"
      }
    },
    {
      "cell_type": "code",
      "source": [
        "X = data.loc[:, data.columns != 'playlist_genre']\n",
        "y = data['playlist_genre']"
      ],
      "metadata": {
        "id": "0yWLSosXVFWO"
      },
      "execution_count": 57,
      "outputs": []
    },
    {
      "cell_type": "markdown",
      "source": [
        "### Balance the dataset\n",
        "\n",
        "We will be balancing the data such that we will have 3K samples for each genre by doing random undersampling and oversampling"
      ],
      "metadata": {
        "id": "9dTWE2AcUkrJ"
      }
    },
    {
      "cell_type": "code",
      "source": [
        "n_samples = 3000\n",
        "\n",
        "def sampling_strategy(labels, n_samples, sampling_type):\n",
        "    target_labels = ''\n",
        "    if sampling_type == 'undersampling':\n",
        "        target_labels = labels.value_counts() > n_samples\n",
        "    elif sampling_type == 'oversampling':\n",
        "        target_labels = labels.value_counts() < n_samples\n",
        "    tl = target_labels[target_labels == True].index\n",
        "    sampling_strategy = {}\n",
        "    for target in tl:\n",
        "        sampling_strategy[target] = n_samples\n",
        "    return sampling_strategy"
      ],
      "metadata": {
        "id": "VCT4Z_nUUwGv"
      },
      "execution_count": 58,
      "outputs": []
    },
    {
      "cell_type": "markdown",
      "source": [
        "#### Undersampling majority classes"
      ],
      "metadata": {
        "id": "0iMXUfL6YEjY"
      }
    },
    {
      "cell_type": "code",
      "source": [
        "under_sampler = RandomUnderSampler(sampling_strategy=sampling_strategy(y, n_samples, 'undersampling'))\n",
        "X_under, y_under = under_sampler.fit_resample(X, y)"
      ],
      "metadata": {
        "id": "B11eRMVbYMFd"
      },
      "execution_count": 62,
      "outputs": []
    },
    {
      "cell_type": "markdown",
      "source": [
        "#### Oversampling minority classes"
      ],
      "metadata": {
        "id": "WzyLTiAQZLa5"
      }
    },
    {
      "cell_type": "code",
      "source": [
        "over_sampler = RandomOverSampler(sampling_strategy=sampling_strategy(y_under, n_samples, 'oversampling'))\n",
        "X_bal, y_bal = over_sampler.fit_resample(X_under, y_under)"
      ],
      "metadata": {
        "id": "7i7DIfSmZP2R"
      },
      "execution_count": 64,
      "outputs": []
    },
    {
      "cell_type": "markdown",
      "source": [
        "The new dataset now has 3000 samples for each genre"
      ],
      "metadata": {
        "id": "_HsCi55xZnQ4"
      }
    },
    {
      "cell_type": "code",
      "source": [
        "count = y_bal.value_counts()\n",
        "count.plot.bar()\n",
        "plt.ylabel('Number of samples')\n",
        "plt.xlabel('Music genres')\n",
        "plt.show()"
      ],
      "metadata": {
        "colab": {
          "base_uri": "https://localhost:8080/",
          "height": 466
        },
        "id": "cBq6133uZhDC",
        "outputId": "93c19861-c507-4831-e77d-22c6446dd593"
      },
      "execution_count": 65,
      "outputs": [
        {
          "output_type": "display_data",
          "data": {
            "text/plain": [
              "<Figure size 640x480 with 1 Axes>"
            ],
            "image/png": "[encoded data removed]"
          },
          "metadata": {}
        }
      ]
    }
  ]
}